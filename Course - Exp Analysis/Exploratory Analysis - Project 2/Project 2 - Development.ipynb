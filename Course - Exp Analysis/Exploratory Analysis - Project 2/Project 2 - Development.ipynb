{
 "cells": [
  {
   "cell_type": "markdown",
   "metadata": {},
   "source": [
    "## Read in the datasets"
   ]
  },
  {
   "cell_type": "code",
   "execution_count": 1,
   "metadata": {
    "collapsed": true
   },
   "outputs": [],
   "source": [
    "#Setup the notebook with my preferences (plot sizes etc.)\n",
    "library(repr)\n",
    "options(repr.plot.width = 8, repr.plot.height = 8, repr.plot.pointsize = 8)"
   ]
  },
  {
   "cell_type": "code",
   "execution_count": 2,
   "metadata": {
    "collapsed": false
   },
   "outputs": [],
   "source": [
    "NEI <- readRDS(\"data/summarySCC_PM25.rds\")\n",
    "SSC <- readRDS(\"data/Source_Classification_Code.rds\")"
   ]
  },
  {
   "cell_type": "code",
   "execution_count": 3,
   "metadata": {
    "collapsed": false
   },
   "outputs": [
    {
     "data": {
      "text/html": [
       "<table>\n",
       "<thead><tr><th></th><th scope=col>fips</th><th scope=col>SCC</th><th scope=col>Pollutant</th><th scope=col>Emissions</th><th scope=col>type</th><th scope=col>year</th></tr></thead>\n",
       "<tbody>\n",
       "\t<tr><th scope=row>4</th><td>09001   </td><td>10100401</td><td>PM25-PRI</td><td>15.714  </td><td>POINT   </td><td>1999    </td></tr>\n",
       "\t<tr><th scope=row>8</th><td>09001   </td><td>10100404</td><td>PM25-PRI</td><td>234.178 </td><td>POINT   </td><td>1999    </td></tr>\n",
       "\t<tr><th scope=row>12</th><td>09001   </td><td>10100501</td><td>PM25-PRI</td><td>0.128   </td><td>POINT   </td><td>1999    </td></tr>\n",
       "\t<tr><th scope=row>16</th><td>09001   </td><td>10200401</td><td>PM25-PRI</td><td>2.036   </td><td>POINT   </td><td>1999    </td></tr>\n",
       "\t<tr><th scope=row>20</th><td>09001   </td><td>10200504</td><td>PM25-PRI</td><td>0.388   </td><td>POINT   </td><td>1999    </td></tr>\n",
       "\t<tr><th scope=row>24</th><td>09001   </td><td>10200602</td><td>PM25-PRI</td><td>1.49    </td><td>POINT   </td><td>1999    </td></tr>\n",
       "</tbody>\n",
       "</table>\n"
      ],
      "text/latex": [
       "\\begin{tabular}{r|llllll}\n",
       "  & fips & SCC & Pollutant & Emissions & type & year\\\\\n",
       "\\hline\n",
       "\t4 & 09001    & 10100401 & PM25-PRI & 15.714   & POINT    & 1999    \\\\\n",
       "\t8 & 09001    & 10100404 & PM25-PRI & 234.178  & POINT    & 1999    \\\\\n",
       "\t12 & 09001    & 10100501 & PM25-PRI & 0.128    & POINT    & 1999    \\\\\n",
       "\t16 & 09001    & 10200401 & PM25-PRI & 2.036    & POINT    & 1999    \\\\\n",
       "\t20 & 09001    & 10200504 & PM25-PRI & 0.388    & POINT    & 1999    \\\\\n",
       "\t24 & 09001    & 10200602 & PM25-PRI & 1.49     & POINT    & 1999    \\\\\n",
       "\\end{tabular}\n"
      ],
      "text/plain": [
       "    fips      SCC Pollutant Emissions  type year\n",
       "4  09001 10100401  PM25-PRI    15.714 POINT 1999\n",
       "8  09001 10100404  PM25-PRI   234.178 POINT 1999\n",
       "12 09001 10100501  PM25-PRI     0.128 POINT 1999\n",
       "16 09001 10200401  PM25-PRI     2.036 POINT 1999\n",
       "20 09001 10200504  PM25-PRI     0.388 POINT 1999\n",
       "24 09001 10200602  PM25-PRI     1.490 POINT 1999"
      ]
     },
     "metadata": {},
     "output_type": "display_data"
    }
   ],
   "source": [
    "head(NEI)"
   ]
  },
  {
   "cell_type": "markdown",
   "metadata": {
    "collapsed": false
   },
   "source": [
    "### Plot 1 - Have total emissions from PM2.5 decreased in the United States from 1999 to 2008? Using the base plotting system, make a plot showing the total PM2.5 emission from all sources for each of the years 1999, 2002, 2005, and 2008."
   ]
  },
  {
   "cell_type": "code",
   "execution_count": 23,
   "metadata": {
    "collapsed": false
   },
   "outputs": [
    {
     "name": "stdout",
     "output_type": "stream",
     "text": [
      "    1999     2002     2005     2008 \n",
      "7.332967 5.635780 5.454703 3.464206 \n"
     ]
    }
   ],
   "source": [
    "#Calculate the total emissions by year for the US\n",
    "total_emission <- tapply(NEI$Emission, as.factor(NEI$year), sum)\n",
    "total_emission <- total_emission/1000000\n",
    "print(total_emission)"
   ]
  },
  {
   "cell_type": "code",
   "execution_count": 21,
   "metadata": {
    "collapsed": false
   },
   "outputs": [],
   "source": [
    "x0 <- as.numeric(names(total_emission))\n"
   ]
  },
  {
   "cell_type": "code",
   "execution_count": 28,
   "metadata": {
    "collapsed": false
   },
   "outputs": [
    {
     "data": {
      "image/png": "[encoded data removed]",
      "text/plain": [
       "Plot with title \"Total US Emissions from all sources (1999 - 2008)\""
      ]
     },
     "metadata": {},
     "output_type": "display_data"
    }
   ],
   "source": [
    "barplot(total_emission, main = \"Total US Emissions from all sources (1999 - 2008)\", xlab = \"Year\", ylab = \"Total recorded Tonnage of PM2.5 Emissions (Million)\" )"
   ]
  },
  {
   "cell_type": "markdown",
   "metadata": {},
   "source": [
    "### Plot 2 - Have total emissions from PM2.5 decreased in the Baltimore City, Maryland (fips == \"24510\") from 1999 to 2008? Use the base plotting system to make a plot answering this question."
   ]
  },
  {
   "cell_type": "code",
   "execution_count": 3,
   "metadata": {
    "collapsed": false
   },
   "outputs": [
    {
     "name": "stdout",
     "output_type": "stream",
     "text": [
      "    1999     2002     2005     2008 \n",
      "3274.180 2453.916 3091.354 1862.282 \n"
     ]
    }
   ],
   "source": [
    "BaltData <- subset(NEI, fips==\"24510\")\n",
    "BaltEmissions <- tapply(BaltData$Emission, as.factor(BaltData$year), sum)\n",
    "print(BaltEmissions)"
   ]
  },
  {
   "cell_type": "code",
   "execution_count": 33,
   "metadata": {
    "collapsed": false
   },
   "outputs": [
    {
     "data": {
      "image/png": "[encoded data removed]",
      "text/plain": [
       "Plot with title \"Total Emissions from Baltimore City, Maryland from all sources (1999-2008)\""
      ]
     },
     "metadata": {},
     "output_type": "display_data"
    }
   ],
   "source": [
    "barplot(BaltEmissions, main = \"Total Emissions from Baltimore City, Maryland from all sources (1999-2008)\", xlab = \"Year\", ylab = \"Recorded Tonnage of PM2.5 Emissions\")"
   ]
  },
  {
   "cell_type": "markdown",
   "metadata": {},
   "source": [
    "### Plot 3 - Of the four types of sources indicated by the type (point, nonpoint, onroad, nonroad) variable, which of these four sources have seen decreases in emissions from 1999–2008 for Baltimore City? Which have seen increases in emissions from 1999–2008? Use the ggplot2 plotting system to make a plot answer this question."
   ]
  },
  {
   "cell_type": "code",
   "execution_count": 4,
   "metadata": {
    "collapsed": false
   },
   "outputs": [
    {
     "name": "stderr",
     "output_type": "stream",
     "text": [
      "\n",
      "Attaching package: 'dplyr'\n",
      "\n",
      "The following objects are masked from 'package:stats':\n",
      "\n",
      "    filter, lag\n",
      "\n",
      "The following objects are masked from 'package:base':\n",
      "\n",
      "    intersect, setdiff, setequal, union\n",
      "\n"
     ]
    },
    {
     "name": "stdout",
     "output_type": "stream",
     "text": [
      "Source: local data frame [16 x 3]\n",
      "Groups: type [?]\n",
      "\n",
      "       type  year  Emissions\n",
      "      (chr) (int)      (dbl)\n",
      "1  NON-ROAD  1999  522.94000\n",
      "2  NON-ROAD  2002  240.84692\n",
      "3  NON-ROAD  2005  248.93369\n",
      "4  NON-ROAD  2008   55.82356\n",
      "5  NONPOINT  1999 2107.62500\n",
      "6  NONPOINT  2002 1509.50000\n",
      "7  NONPOINT  2005 1509.50000\n",
      "8  NONPOINT  2008 1373.20731\n",
      "9   ON-ROAD  1999  346.82000\n",
      "10  ON-ROAD  2002  134.30882\n",
      "11  ON-ROAD  2005  130.43038\n",
      "12  ON-ROAD  2008   88.27546\n",
      "13    POINT  1999  296.79500\n",
      "14    POINT  2002  569.26000\n",
      "15    POINT  2005 1202.49000\n",
      "16    POINT  2008  344.97518\n"
     ]
    }
   ],
   "source": [
    "library(dplyr)\n",
    "library(tidyr)\n",
    "\n",
    "BaltDataType <- BaltData %>% group_by(type, year) %>% summarize(Emissions = sum(Emissions))\n",
    "print(BaltDataType)"
   ]
  },
  {
   "cell_type": "code",
   "execution_count": 5,
   "metadata": {
    "collapsed": false
   },
   "outputs": [
    {
     "name": "stdout",
     "output_type": "stream",
     "text": [
      "      NON-ROAD NONPOINT   ON-ROAD     POINT\n",
      "1999 522.94000 2107.625 346.82000  296.7950\n",
      "2002 240.84692 1509.500 134.30882  569.2600\n",
      "2005 248.93369 1509.500 130.43038 1202.4900\n",
      "2008  55.82356 1373.207  88.27546  344.9752\n"
     ]
    }
   ],
   "source": [
    "D2 <- with(BaltData, tapply(Emissions, list(year, type), sum))\n",
    "print(D2)"
   ]
  },
  {
   "cell_type": "code",
   "execution_count": 43,
   "metadata": {
    "collapsed": true
   },
   "outputs": [],
   "source": [
    "par(mfrow = c(2,2))"
   ]
  },
  {
   "cell_type": "code",
   "execution_count": 19,
   "metadata": {
    "collapsed": false
   },
   "outputs": [
    {
     "data": {
      "image/png": "[encoded data removed]",
      "text/plain": [
       "plot without title"
      ]
     },
     "metadata": {},
     "output_type": "display_data"
    }
   ],
   "source": [
    "library(ggplot2)\n",
    "\n",
    "p <- ggplot(BaltDataType, aes(as.factor(year), Emissions))\n",
    "q <- p + geom_bar(stat = \"identity\") + facet_wrap(~ type, nrow = 2)\n",
    "print(q)"
   ]
  },
  {
   "cell_type": "markdown",
   "metadata": {},
   "source": [
    "### Plot 4 - Across the United States, how have emissions from coal combustion-related sources changed from 1999–2008?"
   ]
  },
  {
   "cell_type": "code",
   "execution_count": 109,
   "metadata": {
    "collapsed": false
   },
   "outputs": [
    {
     "data": {
      "text/html": [
       "Off-highway CNG /Construction &amp; Mining Equipt /Concrete/Industrial Saws"
      ],
      "text/latex": [
       "Off-highway CNG /Construction \\& Mining Equipt /Concrete/Industrial Saws"
      ],
      "text/markdown": [
       "Off-highway CNG /Construction &amp; Mining Equipt /Concrete/Industrial Saws"
      ],
      "text/plain": [
       "[1] Off-highway CNG /Construction & Mining Equipt /Concrete/Industrial Saws\n",
       "11238 Levels:  ..."
      ]
     },
     "metadata": {},
     "output_type": "display_data"
    }
   ],
   "source": [
    "#Take a look at the data contained in SSC\n",
    "SSC[2011,3]\n",
    "#head(SSC)"
   ]
  },
  {
   "cell_type": "code",
   "execution_count": 110,
   "metadata": {
    "collapsed": false
   },
   "outputs": [],
   "source": [
    "#Pick out the SCC Codes which contian a reference to Coal *I check column 3, 9, 10 and found column 3 to have the most instances \n",
    "#and incorpated the all instances of the other columns as well\n",
    "\n",
    "c0 <- grepl(\"[cC]oal\", SSC[,3])\n",
    "Coalcodes = SSC[c0,1]"
   ]
  },
  {
   "cell_type": "code",
   "execution_count": 152,
   "metadata": {
    "collapsed": false
   },
   "outputs": [
    {
     "name": "stdout",
     "output_type": "stream",
     "text": [
      "    1999     2002     2005     2008 \n",
      "602624.1 564940.0 569654.7 358083.9 \n"
     ]
    }
   ],
   "source": [
    "CoalData <- subset(NEI, SCC %in% Coalcodes)\n",
    "CoalEmissions <- with(CoalData, tapply(Emissions, year, sum))\n",
    "print(CoalEmissions)"
   ]
  },
  {
   "cell_type": "markdown",
   "metadata": {},
   "source": [
    "### Plot 5 - How have emissions from motor vehicle sources changed from 1999–2008 in Baltimore City?"
   ]
  },
  {
   "cell_type": "code",
   "execution_count": 20,
   "metadata": {
    "collapsed": false
   },
   "outputs": [],
   "source": [
    "#Select the motor vehicle's, it took some experimenting to figure out which column best represented motor vehicles.\n",
    "m0 <- grepl(\"[vV]eh\", SSC[,3])\n",
    "VehicleCodes = SSC[m0,1]"
   ]
  },
  {
   "cell_type": "code",
   "execution_count": 23,
   "metadata": {
    "collapsed": false
   },
   "outputs": [
    {
     "name": "stdout",
     "output_type": "stream",
     "text": [
      "Source: local data frame [8 x 3]\n",
      "Groups: fips [?]\n",
      "\n",
      "   fips  year  Emissions\n",
      "  (chr) (int)      (dbl)\n",
      "1 06037  1999 4005.31600\n",
      "2 06037  2002 4519.12020\n",
      "3 06037  2005 4848.83493\n",
      "4 06037  2008 4168.75598\n",
      "5 24510  1999  346.82000\n",
      "6 24510  2002  144.47882\n",
      "7 24510  2005  140.60038\n",
      "8 24510  2008   88.27546\n"
     ]
    }
   ],
   "source": [
    "VehData <- subset(NEI, SCC %in% VehicleCodes)\n",
    "BLData <- subset(VehData,fips %in% c(\"24510\", \"06037\"))\n",
    "BLVeh <- BLData %>% group_by(fips, year) %>% summarize(Emissions = sum(Emissions))\n",
    "#BLVeh <- with(BLData, tapply(Emissions, list(year, fips), sum))\n",
    "print(BLVeh)"
   ]
  },
  {
   "cell_type": "code",
   "execution_count": 154,
   "metadata": {
    "collapsed": false
   },
   "outputs": [
    {
     "name": "stdout",
     "output_type": "stream",
     "text": [
      "     1999      2002      2005      2008 \n",
      "346.82000 144.47882 140.60038  88.27546 \n"
     ]
    }
   ],
   "source": [
    "VehData <- subset(NEI, SCC %in% VehicleCodes)\n",
    "BaltData <- subset(VehData,fips==\"24510\") \n",
    "BaltVeh <- with(BaltData, tapply(Emissions, year, sum))\n",
    "print(BaltVeh)"
   ]
  },
  {
   "cell_type": "markdown",
   "metadata": {},
   "source": [
    "### Plot 6 - Compare emissions from motor vehicle sources in Baltimore City with emissions from motor vehicle sources in Los Angeles County, California (fips == \"06037\"). Which city has seen greater changes over time in motor vehicle emissions?"
   ]
  },
  {
   "cell_type": "code",
   "execution_count": 150,
   "metadata": {
    "collapsed": false
   },
   "outputs": [
    {
     "name": "stdout",
     "output_type": "stream",
     "text": [
      "    1999     2002     2005     2008 \n",
      "4005.316 4519.120 4848.835 4168.756 \n"
     ]
    }
   ],
   "source": [
    "LAData <- subset(VehData, fips == \"06037\")\n",
    "LAVeh <- with(LAData, tapply(Emissions, year, sum))\n",
    "print(LAVeh)"
   ]
  },
  {
   "cell_type": "code",
   "execution_count": 35,
   "metadata": {
    "collapsed": false
   },
   "outputs": [
    {
     "data": {
      "image/png": "[encoded data removed]",
      "text/plain": [
       "plot without title"
      ]
     },
     "metadata": {},
     "output_type": "display_data"
    }
   ],
   "source": [
    "\n",
    "#Subset out the Emissions data with relevant SCC Codes\n",
    "VehData <- subset(NEI, SCC %in% VehicleCodes)\n",
    "\n",
    "#Subset the Baltimore City and LA data\n",
    "BLData <- subset(VehData,fips %in% c(\"24510\", \"06037\"))\n",
    "\n",
    "#Group and summarize vehicle emissions\n",
    "BLVeh <- BLData %>% group_by(fips, year) %>% summarize(Emissions = sum(Emissions))\n",
    "\n",
    "p6 <- ggplot(BLVeh, aes(x = as.factor(year), y = Emissions, group = fips, colour = fips, shape = fips))\n",
    "p6 <- p6 + geom_line(lwd = 1) + geom_point(cex = 3)\n",
    "p6 <- p6 + scale_shape_discrete(name = \"City\", breaks = c(\"24510\",\"06037\"), labels = c(\"Baltimore\", \"L.A.\"))\n",
    "p6 <- p6 + scale_colour_discrete(name = \"City\", breaks = c(\"24510\",\"06037\"), labels = c(\"Baltimore\", \"L.A.\"))\n",
    "p6 <- p6 + labs(x = \"Year\", y = \"PM2.5 Emissions (Ton)\", title = \"Motor Vehicle Emissions - Baltimore & L.A. (1999-2008)\")\n",
    "print(p6)"
   ]
  },
  {
   "cell_type": "code",
   "execution_count": null,
   "metadata": {
    "collapsed": true
   },
   "outputs": [],
   "source": []
  }
 ],
 "metadata": {
  "anaconda-cloud": {},
  "kernelspec": {
   "display_name": "R",
   "language": "R",
   "name": "ir"
  },
  "language_info": {
   "codemirror_mode": "r",
   "file_extension": ".r",
   "mimetype": "text/x-r-source",
   "name": "R",
   "pygments_lexer": "r",
   "version": "3.3.1"
  }
 },
 "nbformat": 4,
 "nbformat_minor": 1
}
