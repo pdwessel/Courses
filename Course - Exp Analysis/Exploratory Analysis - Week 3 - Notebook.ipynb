{
 "cells": [
  {
   "cell_type": "markdown",
   "metadata": {},
   "source": [
    "## Lesson 1\n",
    "### Hierarchical Clustering"
   ]
  },
  {
   "cell_type": "markdown",
   "metadata": {},
   "source": [
    "Clustering organizes things that are **close** into groups\n",
    "* How to we define close?\n",
    "* How do we group things?\n",
    "* How do we visualize the grouping?\n",
    "* How do we interpret the grouping?\n",
    "\n",
    "Hierarchial Clustering\n",
    "* An agglomerative approach\n",
    "    - Find closest two things\n",
    "    - Put them together\n",
    "    - Find next closest\n",
    "* Requires\n",
    "    - A defined distance\n",
    "    - A merging approach\n",
    "* Produces\n",
    "    - A tree showing how close things are to each other\n",
    "\n",
    "How do we define close\n",
    "* Most important step\n",
    "    - Garbage in > garbage out\n",
    "* Distance or similarity\n",
    "    - Continuous - eulidean distance\n",
    "    - Continuous - correlation similarity\n",
    "    - Binary - manhattan distance\n",
    "* Pick a distance/similarity that makes sense for your problem\n"
   ]
  },
  {
   "cell_type": "markdown",
   "metadata": {},
   "source": [
    "### Example"
   ]
  },
  {
   "cell_type": "code",
   "execution_count": 3,
   "metadata": {
    "collapsed": true
   },
   "outputs": [],
   "source": [
    "#Setup the plot sizes for the remainder of the notebook\n",
    "library(repr)\n",
    "options(repr.plot.width = 3, repr.plot.height = 3, repr.plot.pointsize = 8)"
   ]
  },
  {
   "cell_type": "code",
   "execution_count": 13,
   "metadata": {
    "collapsed": false
   },
   "outputs": [
    {
     "data": {
      "image/png": "[encoded data removed]",
      "text/plain": [
       "plot without title"
      ]
     },
     "metadata": {},
     "output_type": "display_data"
    }
   ],
   "source": [
    "set.seed(1234)\n",
    "par(mar = c(0,0,0,0))\n",
    "x <- rnorm(12, mean = rep(1:3, each =4), sd = 0.2)\n",
    "y <- rnorm(12, mean = rep(c(1,2,1), each = 4), sd = 0.2)\n",
    "plot(x,y, col = \"blue\", pch = 19, cex = 1.5)\n",
    "text(x + 0.05, y + 0.05, labels = as.character(1:12), cex = 0.5)\n"
   ]
  },
  {
   "cell_type": "code",
   "execution_count": 8,
   "metadata": {
    "collapsed": false
   },
   "outputs": [
    {
     "data": {
      "text/plain": [
       "            1          2          3          4          5          6          7\n",
       "2  0.34120511                                                                  \n",
       "3  0.57493739 0.24102750                                                       \n",
       "4  0.26381786 0.52578819 0.71861759                                            \n",
       "5  1.69424700 1.35818182 1.11952883 1.80666768                                 \n",
       "6  1.65812902 1.31960442 1.08338841 1.78081321 0.08150268                      \n",
       "7  1.49823399 1.16620981 0.92568723 1.60131659 0.21110433 0.21666557           \n",
       "8  1.99149025 1.69093111 1.45648906 2.02849490 0.61704200 0.69791931 0.65062566\n",
       "9  2.13629539 1.83167669 1.67835968 2.35675598 1.18349654 1.11500116 1.28582631\n",
       "10 2.06419586 1.76999236 1.63109790 2.29239480 1.23847877 1.16550201 1.32063059\n",
       "11 2.14702468 1.85183204 1.71074417 2.37461984 1.28153948 1.21077373 1.37369662\n",
       "12 2.05664233 1.74662555 1.58658782 2.27232243 1.07700974 1.00777231 1.17740375\n",
       "            8          9         10         11\n",
       "2                                             \n",
       "3                                             \n",
       "4                                             \n",
       "5                                             \n",
       "6                                             \n",
       "7                                             \n",
       "8                                             \n",
       "9  1.76460709                                 \n",
       "10 1.83517785 0.14090406                      \n",
       "11 1.86999431 0.11624471 0.08317570           \n",
       "12 1.66223814 0.10848966 0.19128645 0.20802789"
      ]
     },
     "metadata": {},
     "output_type": "display_data"
    }
   ],
   "source": [
    "#Calculate the distance of each point from each other\n",
    "dataFrame <- data.frame(x = x, y = y)\n",
    "dist(dataFrame)"
   ]
  },
  {
   "cell_type": "code",
   "execution_count": 14,
   "metadata": {
    "collapsed": false
   },
   "outputs": [
    {
     "data": {
      "image/png": "[encoded data removed]",
      "text/plain": [
       "Plot with title \"Cluster Dendrogram\""
      ]
     },
     "metadata": {},
     "output_type": "display_data"
    }
   ],
   "source": [
    "#Using hclust\n",
    "dataFrame <- data.frame(x=x, y=y)\n",
    "distxy <- dist(dataFrame)\n",
    "hClustering <- hclust(distxy)\n",
    "plot(hClustering)"
   ]
  },
  {
   "cell_type": "markdown",
   "metadata": {},
   "source": [
    "### Prettier dendrograms"
   ]
  },
  {
   "cell_type": "code",
   "execution_count": 15,
   "metadata": {
    "collapsed": true
   },
   "outputs": [],
   "source": [
    "myplclust <- function(hclust, lab = hclust$labels, lab.col = rep(1, length(hclust$labels)), hang = 0.1, ...) {\n",
    "    ## modification of plclust for plotting hclust objects in color, Copyright Eav KF Chan 2009 Arguments: \n",
    "    ## hclust: hclust object lab: a character vector of labels of the leaves of ther tree lab.col: colour \n",
    "    ## for the labels; NA=default device foreground colour hang: as in hclust and plclust Side effect: A \n",
    "    ## display of hierarchical cluster with coloured leaf labels.\n",
    "        y <- rep(hclust$height, 2)\n",
    "    x <- as.numeric(hclust$merge)\n",
    "    y <- y[which(x<0)]\n",
    "    x <- x[which(x<0)]\n",
    "    x <- abs(x)\n",
    "    y <- y[order(x)]\n",
    "    x <- x[order(x)]\n",
    "    plot(hclust, labels = FALSE, hang = hang, ...)\n",
    "    text(x=x, y=y[hclust$order] - (max(hclust$height)*hang), labels = lab[hclust$order], col = lab.col[hclust$order], srt = 90, adj = c(1,0.5), xpd = NA, ...\n",
    "        )\n",
    "    \n",
    "}"
   ]
  },
  {
   "cell_type": "code",
   "execution_count": 16,
   "metadata": {
    "collapsed": false
   },
   "outputs": [
    {
     "data": {
      "image/png": "[encoded data removed]",
      "text/plain": [
       "Plot with title \"Cluster Dendrogram\""
      ]
     },
     "metadata": {},
     "output_type": "display_data"
    }
   ],
   "source": [
    "dataFrame <- data.frame(x=x, y=y)\n",
    "distxy <- dist(dataFrame)\n",
    "hClustering <- hclust(distxy)\n",
    "myplclust(hClustering, lab = rep(1:3, each = 4), lab.col= rep(1:3, each = 4))"
   ]
  },
  {
   "cell_type": "markdown",
   "metadata": {},
   "source": [
    "### Heatmap function"
   ]
  },
  {
   "cell_type": "code",
   "execution_count": 18,
   "metadata": {
    "collapsed": false
   },
   "outputs": [
    {
     "data": {
      "image/png": "[encoded data removed]",
      "text/plain": [
       "plot without title"
      ]
     },
     "metadata": {},
     "output_type": "display_data"
    }
   ],
   "source": [
    "dataFrame <- data.frame(x=x, y=y)\n",
    "set.seed(143)\n",
    "dataMatrix <- as.matrix(dataFrame)[sample(1:12),]\n",
    "heatmap(dataMatrix)\n"
   ]
  },
  {
   "cell_type": "markdown",
   "metadata": {},
   "source": [
    "## Lesson 2\n",
    "### K-means Clustering"
   ]
  },
  {
   "cell_type": "markdown",
   "metadata": {
    "collapsed": true
   },
   "source": [
    "A Partioning approach\n",
    "* fix a number of clusters\n",
    "* Get the \"centeroids\" of each cluster\n",
    "* Assign things to closest centroid\n",
    "* Recalculate centroids\n",
    "\n",
    "Requires\n",
    "* A defined distance metric\n",
    "* A number of clusters\n",
    "* An initial guess as to cluster centeroids\n",
    "\n",
    "Produces\n",
    "* Final estimate of cluster centeroids\n",
    "* An assignment of each point to clusters"
   ]
  },
  {
   "cell_type": "markdown",
   "metadata": {},
   "source": [
    "Example"
   ]
  },
  {
   "cell_type": "code",
   "execution_count": 5,
   "metadata": {
    "collapsed": false
   },
   "outputs": [
    {
     "data": {
      "image/png": "[encoded data removed]",
      "text/plain": [
       "plot without title"
      ]
     },
     "metadata": {},
     "output_type": "display_data"
    }
   ],
   "source": [
    "set.seed(1234)\n",
    "par(mar = c(0,0,0,0))\n",
    "x <- rnorm(12, mean = rep(1:3, each = 4), sd = 0.2)\n",
    "y <- rnorm(12, mean = rep(c(1,2,1), each = 4), sd = 0.2)\n",
    "plot(x,y, col = \"blue\", pch = 19, cex = 1.5)\n",
    "text(x + 0.05, y + 0.05, labels = as.character(1:12), cex = 0.5)"
   ]
  },
  {
   "cell_type": "markdown",
   "metadata": {},
   "source": [
    "kmeans()\n",
    "* Important parameters: x, centers, iter.max, nstart"
   ]
  },
  {
   "cell_type": "code",
   "execution_count": null,
   "metadata": {
    "collapsed": true
   },
   "outputs": [],
   "source": []
  },
  {
   "cell_type": "code",
   "execution_count": 8,
   "metadata": {
    "collapsed": false
   },
   "outputs": [
    {
     "data": {
      "text/html": [
       "<ol class=list-inline>\n",
       "\t<li>\"cluster\"</li>\n",
       "\t<li>\"centers\"</li>\n",
       "\t<li>\"totss\"</li>\n",
       "\t<li>\"withinss\"</li>\n",
       "\t<li>\"tot.withinss\"</li>\n",
       "\t<li>\"betweenss\"</li>\n",
       "\t<li>\"size\"</li>\n",
       "\t<li>\"iter\"</li>\n",
       "\t<li>\"ifault\"</li>\n",
       "</ol>\n"
      ],
      "text/latex": [
       "\\begin{enumerate*}\n",
       "\\item \"cluster\"\n",
       "\\item \"centers\"\n",
       "\\item \"totss\"\n",
       "\\item \"withinss\"\n",
       "\\item \"tot.withinss\"\n",
       "\\item \"betweenss\"\n",
       "\\item \"size\"\n",
       "\\item \"iter\"\n",
       "\\item \"ifault\"\n",
       "\\end{enumerate*}\n"
      ],
      "text/markdown": [
       "1. \"cluster\"\n",
       "2. \"centers\"\n",
       "3. \"totss\"\n",
       "4. \"withinss\"\n",
       "5. \"tot.withinss\"\n",
       "6. \"betweenss\"\n",
       "7. \"size\"\n",
       "8. \"iter\"\n",
       "9. \"ifault\"\n",
       "\n",
       "\n"
      ],
      "text/plain": [
       "[1] \"cluster\"      \"centers\"      \"totss\"        \"withinss\"     \"tot.withinss\"\n",
       "[6] \"betweenss\"    \"size\"         \"iter\"         \"ifault\"      "
      ]
     },
     "metadata": {},
     "output_type": "display_data"
    }
   ],
   "source": [
    "dataframe <- data.frame(x,y)\n",
    "kmeansObj <- kmeans(dataframe, centers = 3)\n",
    "names(kmeansObj)"
   ]
  },
  {
   "cell_type": "code",
   "execution_count": 9,
   "metadata": {
    "collapsed": false
   },
   "outputs": [
    {
     "data": {
      "text/html": [
       "<ol class=list-inline>\n",
       "\t<li>1</li>\n",
       "\t<li>1</li>\n",
       "\t<li>1</li>\n",
       "\t<li>1</li>\n",
       "\t<li>3</li>\n",
       "\t<li>3</li>\n",
       "\t<li>3</li>\n",
       "\t<li>3</li>\n",
       "\t<li>2</li>\n",
       "\t<li>2</li>\n",
       "\t<li>2</li>\n",
       "\t<li>2</li>\n",
       "</ol>\n"
      ],
      "text/latex": [
       "\\begin{enumerate*}\n",
       "\\item 1\n",
       "\\item 1\n",
       "\\item 1\n",
       "\\item 1\n",
       "\\item 3\n",
       "\\item 3\n",
       "\\item 3\n",
       "\\item 3\n",
       "\\item 2\n",
       "\\item 2\n",
       "\\item 2\n",
       "\\item 2\n",
       "\\end{enumerate*}\n"
      ],
      "text/markdown": [
       "1. 1\n",
       "2. 1\n",
       "3. 1\n",
       "4. 1\n",
       "5. 3\n",
       "6. 3\n",
       "7. 3\n",
       "8. 3\n",
       "9. 2\n",
       "10. 2\n",
       "11. 2\n",
       "12. 2\n",
       "\n",
       "\n"
      ],
      "text/plain": [
       " [1] 1 1 1 1 3 3 3 3 2 2 2 2"
      ]
     },
     "metadata": {},
     "output_type": "display_data"
    }
   ],
   "source": [
    "kmeansObj$cluster"
   ]
  },
  {
   "cell_type": "code",
   "execution_count": 10,
   "metadata": {
    "collapsed": false
   },
   "outputs": [
    {
     "data": {
      "image/png": "[encoded data removed]",
      "text/plain": [
       "plot without title"
      ]
     },
     "metadata": {},
     "output_type": "display_data"
    }
   ],
   "source": [
    "par(mar = rep(0.2,4))\n",
    "plot(x,y,col = kmeansObj$cluster, pch = 19, cex = 1.5)\n",
    "points(kmeansObj$centers, col = 1:3, pch = 3, cex = 2.5, lwd = 2.5)"
   ]
  },
  {
   "cell_type": "markdown",
   "metadata": {},
   "source": [
    "Heatmaps"
   ]
  },
  {
   "cell_type": "code",
   "execution_count": 13,
   "metadata": {
    "collapsed": false
   },
   "outputs": [
    {
     "data": {
      "image/png": "[encoded data removed]",
      "text/plain": [
       "plot without title"
      ]
     },
     "metadata": {},
     "output_type": "display_data"
    }
   ],
   "source": [
    "set.seed(1234)\n",
    "dataMatrix <- as.matrix(dataframe)[sample(1:12),]\n",
    "kmeansObj2 <- kmeans(dataMatrix, centers = 3)\n",
    "par(mfrow = c(1,2), mar = c(2,4,0.1,0.1))\n",
    "image(t(dataMatrix)[, nrow(dataMatrix):1], yaxt = \"n\")\n",
    "image(t(dataMatrix)[, order(kmeansObj2$cluster)], yaxt = \"n\")"
   ]
  },
  {
   "cell_type": "markdown",
   "metadata": {},
   "source": [
    "Principle Components Analysis and Singular Value Decomposition"
   ]
  },
  {
   "cell_type": "code",
   "execution_count": 19,
   "metadata": {
    "collapsed": false
   },
   "outputs": [
    {
     "data": {
      "image/png": "[encoded data removed]",
      "text/plain": [
       "plot without title"
      ]
     },
     "metadata": {},
     "output_type": "display_data"
    }
   ],
   "source": [
    "set.seed(12345)\n",
    "par(mar = rep(0.2,4))\n",
    "dataMatrix <- matrix(rnorm(400), nrow  = 40)\n",
    "image(1:10, 1:40, t(dataMatrix)[, nrow(dataMatrix):1])"
   ]
  },
  {
   "cell_type": "code",
   "execution_count": 16,
   "metadata": {
    "collapsed": false
   },
   "outputs": [
    {
     "data": {
      "image/png": "[encoded data removed]",
      "text/plain": [
       "plot without title"
      ]
     },
     "metadata": {},
     "output_type": "display_data"
    }
   ],
   "source": [
    "par(mar = rep(0.2,4))\n",
    "heatmap(dataMatrix)"
   ]
  },
  {
   "cell_type": "markdown",
   "metadata": {},
   "source": [
    "What if we add a pattern"
   ]
  },
  {
   "cell_type": "code",
   "execution_count": 20,
   "metadata": {
    "collapsed": true
   },
   "outputs": [],
   "source": [
    "set.seed(678910)\n",
    "for (i in 1:40) {\n",
    "    coinFlip <- rbinom(1, size = 1, prob = 0.5)\n",
    "    if (coinFlip) {\n",
    "        dataMatrix[i,] <- dataMatrix[i,] + rep(c(0,3), each = 5)\n",
    "    }\n",
    "}"
   ]
  },
  {
   "cell_type": "code",
   "execution_count": 21,
   "metadata": {
    "collapsed": false
   },
   "outputs": [
    {
     "data": {
      "image/png": "[encoded data removed]",
      "text/plain": [
       "plot without title"
      ]
     },
     "metadata": {},
     "output_type": "display_data"
    }
   ],
   "source": [
    "par(mar = rep(0.2,4))\n",
    "heatmap(dataMatrix)"
   ]
  },
  {
   "cell_type": "markdown",
   "metadata": {},
   "source": [
    "Patterns in rows and columns"
   ]
  },
  {
   "cell_type": "code",
   "execution_count": 23,
   "metadata": {
    "collapsed": false
   },
   "outputs": [
    {
     "data": {
      "image/png": "[encoded data removed]",
      "text/plain": [
       "plot without title"
      ]
     },
     "metadata": {},
     "output_type": "display_data"
    }
   ],
   "source": [
    "hh <- hclust(dist(dataMatrix))\n",
    "dataMatrixOrdered <- dataMatrix[hh$order,]\n",
    "par(mfrow = c(1,3))\n",
    "image(t(dataMatrixOrdered)[, nrow(dataMatrixOrdered):1])\n",
    "plot(rowMeans(dataMatrixOrdered), 40:1, , xlab = \"Row Mean\", ylab = \"Row\", pch = 19)\n",
    "plot(colMeans(dataMatrixOrdered), xlab = \"Column\", ylab = \"Column Mean\", pch = 16, cex = 1.5)"
   ]
  },
  {
   "cell_type": "markdown",
   "metadata": {},
   "source": [
    "### Related problems\n",
    "\n",
    "You have a multivariate variables $X_{1},...,X_{n}$ so $X_{1}=(X_{11},...,X_{1m})$\n",
    "\n",
    "* Find a new set of milticariate cariables that are uncorrelated and explain as much variance as possible.\n",
    "* If you put all the cariables together in one matrix, find the nest matrix created with fewer variables (lower rank) that explains the original data\n",
    "\n",
    "The first goal is **statistical** the second goal is **data compression**"
   ]
  },
  {
   "cell_type": "markdown",
   "metadata": {},
   "source": [
    "### Related Solutions\n",
    "\n",
    "**SVD**\n",
    "\n",
    "If $X$ is a matrix with each cariable in a column and each observation in a row then the SVD is a \"matrix decomposition\" $$ X = UDV^T $$ where the columns of $U$ are orhogonal (left singular vectors), the columns of $V$ are orthogonal (right singular vectors) and $D$ is a diagonal matrix (singular values).\n",
    "\n",
    "**PCA**\n",
    "\n",
    "The prinicple components are equal to the right singular values if you first scale (subtract the mean, divide by the standard deviation) the variables\n"
   ]
  },
  {
   "cell_type": "markdown",
   "metadata": {},
   "source": [
    "### Components of the SVD - $u$ and $v$"
   ]
  },
  {
   "cell_type": "code",
   "execution_count": 24,
   "metadata": {
    "collapsed": false
   },
   "outputs": [
    {
     "data": {
      "image/png": "[encoded data removed]",
      "text/plain": [
       "plot without title"
      ]
     },
     "metadata": {},
     "output_type": "display_data"
    }
   ],
   "source": [
    "svd1 <- svd(scale(dataMatrixOrdered))\n",
    "par(mfrow = c(1,3))\n",
    "image(t(dataMatrixOrdered)[, nrow(dataMatrixOrdered):1])\n",
    "plot(svd1$u[,1], 40:1, , xlab = \"Row\", ylab = \"First left singular vector\", pch = 19, cex = 1.5)\n",
    "plot(svd1$v[,1], xlab = \"Column\", ylab = \"First right singual vector\", pch = 18, cex = 1.5)"
   ]
  },
  {
   "cell_type": "markdown",
   "metadata": {},
   "source": [
    "## Lesson 3\n",
    "### Working with Colour in R"
   ]
  },
  {
   "cell_type": "markdown",
   "metadata": {},
   "source": [
    "Colour Utilities in R\n",
    "\n",
    "* The **grDevices** package has two functions\n",
    "    - colorRamp\n",
    "    - colorRampPalette\n",
    "* The functions take palettes of colours and help to interpolate between the colours\n",
    "* The function **colors()** lists the names of teh colours you can use in any plotting function\n",
    "* **colorRamp():** Take a palette of coulours and return a function that takes values between 0 and 1, indicating the extreme of the colour palette. (e.g. see the 'grey' function)\n",
    "* **colorRampPalette():** Take a palette of colours and return a function that takes integer arguments and returns a vector of colours interpolating the palette"
   ]
  },
  {
   "cell_type": "code",
   "execution_count": 25,
   "metadata": {
    "collapsed": false
   },
   "outputs": [
    {
     "data": {
      "text/html": [
       "<ol class=list-inline>\n",
       "\t<li>\"#FF0000\"</li>\n",
       "\t<li>\"#FF1C00\"</li>\n",
       "\t<li>\"#FF3800\"</li>\n",
       "\t<li>\"#FF5500\"</li>\n",
       "\t<li>\"#FF7100\"</li>\n",
       "\t<li>\"#FF8D00\"</li>\n",
       "\t<li>\"#FFAA00\"</li>\n",
       "\t<li>\"#FFC600\"</li>\n",
       "\t<li>\"#FFE200\"</li>\n",
       "\t<li>\"#FFFF00\"</li>\n",
       "</ol>\n"
      ],
      "text/latex": [
       "\\begin{enumerate*}\n",
       "\\item \"\\#FF0000\"\n",
       "\\item \"\\#FF1C00\"\n",
       "\\item \"\\#FF3800\"\n",
       "\\item \"\\#FF5500\"\n",
       "\\item \"\\#FF7100\"\n",
       "\\item \"\\#FF8D00\"\n",
       "\\item \"\\#FFAA00\"\n",
       "\\item \"\\#FFC600\"\n",
       "\\item \"\\#FFE200\"\n",
       "\\item \"\\#FFFF00\"\n",
       "\\end{enumerate*}\n"
      ],
      "text/markdown": [
       "1. \"#FF0000\"\n",
       "2. \"#FF1C00\"\n",
       "3. \"#FF3800\"\n",
       "4. \"#FF5500\"\n",
       "5. \"#FF7100\"\n",
       "6. \"#FF8D00\"\n",
       "7. \"#FFAA00\"\n",
       "8. \"#FFC600\"\n",
       "9. \"#FFE200\"\n",
       "10. \"#FFFF00\"\n",
       "\n",
       "\n"
      ],
      "text/plain": [
       " [1] \"#FF0000\" \"#FF1C00\" \"#FF3800\" \"#FF5500\" \"#FF7100\" \"#FF8D00\" \"#FFAA00\"\n",
       " [8] \"#FFC600\" \"#FFE200\" \"#FFFF00\""
      ]
     },
     "metadata": {},
     "output_type": "display_data"
    }
   ],
   "source": [
    "pal <- colorRampPalette(c(\"red\", \"yellow\"))\n",
    "pal(10)"
   ]
  },
  {
   "cell_type": "markdown",
   "metadata": {},
   "source": [
    "RColorBrewer Package\n",
    "\n",
    "* One package on CRAN that contains intersting/useful colour palettes\n",
    "* There are 3 type of palletes\n",
    "    - Sequential\n",
    "    - Diverging\n",
    "    - Qualitative\n",
    "* Palette infromation can be used in conjucation with the colorRamp and colorRampPalette"
   ]
  },
  {
   "cell_type": "code",
   "execution_count": 26,
   "metadata": {
    "collapsed": false
   },
   "outputs": [
    {
     "data": {
      "image/png": "[encoded data removed]",
      "text/plain": [
       "plot without title"
      ]
     },
     "metadata": {},
     "output_type": "display_data"
    }
   ],
   "source": [
    "x <- rnorm(10000)\n",
    "y <- rnorm(10000)\n",
    "smoothScatter(x,y)"
   ]
  },
  {
   "cell_type": "code",
   "execution_count": null,
   "metadata": {
    "collapsed": true
   },
   "outputs": [],
   "source": []
  }
 ],
 "metadata": {
  "anaconda-cloud": {},
  "kernelspec": {
   "display_name": "R",
   "language": "R",
   "name": "ir"
  },
  "language_info": {
   "codemirror_mode": "r",
   "file_extension": ".r",
   "mimetype": "text/x-r-source",
   "name": "R",
   "pygments_lexer": "r",
   "version": "3.3.1"
  }
 },
 "nbformat": 4,
 "nbformat_minor": 1
}
