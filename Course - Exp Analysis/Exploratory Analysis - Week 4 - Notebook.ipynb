{
 "cells": [
  {
   "cell_type": "markdown",
   "metadata": {},
   "source": [
    "### EDA Case Study - Understainding Human Activity with Smart Phones"
   ]
  },
  {
   "cell_type": "code",
   "execution_count": 5,
   "metadata": {
    "collapsed": true
   },
   "outputs": [],
   "source": [
    "#Setup the plot sizes for the remainder of the notebook\n",
    "library(repr)\n",
    "options(repr.plot.width = 6, repr.plot.height = 3, repr.plot.pointsize = 8)"
   ]
  },
  {
   "cell_type": "code",
   "execution_count": 1,
   "metadata": {
    "collapsed": false
   },
   "outputs": [
    {
     "data": {
      "text/html": [
       "<ol class=list-inline>\n",
       "\t<li>\"tBodyAcc-mean()-X\"</li>\n",
       "\t<li>\"tBodyAcc-mean()-Y\"</li>\n",
       "\t<li>\"tBodyAcc-mean()-Z\"</li>\n",
       "\t<li>\"tBodyAcc-std()-X\"</li>\n",
       "\t<li>\"tBodyAcc-std()-Y\"</li>\n",
       "\t<li>\"tBodyAcc-std()-Z\"</li>\n",
       "\t<li>\"tBodyAcc-mad()-X\"</li>\n",
       "\t<li>\"tBodyAcc-mad()-Y\"</li>\n",
       "\t<li>\"tBodyAcc-mad()-Z\"</li>\n",
       "\t<li>\"tBodyAcc-max()-X\"</li>\n",
       "\t<li>\"tBodyAcc-max()-Y\"</li>\n",
       "\t<li>\"tBodyAcc-max()-Z\"</li>\n",
       "</ol>\n"
      ],
      "text/latex": [
       "\\begin{enumerate*}\n",
       "\\item \"tBodyAcc-mean()-X\"\n",
       "\\item \"tBodyAcc-mean()-Y\"\n",
       "\\item \"tBodyAcc-mean()-Z\"\n",
       "\\item \"tBodyAcc-std()-X\"\n",
       "\\item \"tBodyAcc-std()-Y\"\n",
       "\\item \"tBodyAcc-std()-Z\"\n",
       "\\item \"tBodyAcc-mad()-X\"\n",
       "\\item \"tBodyAcc-mad()-Y\"\n",
       "\\item \"tBodyAcc-mad()-Z\"\n",
       "\\item \"tBodyAcc-max()-X\"\n",
       "\\item \"tBodyAcc-max()-Y\"\n",
       "\\item \"tBodyAcc-max()-Z\"\n",
       "\\end{enumerate*}\n"
      ],
      "text/markdown": [
       "1. \"tBodyAcc-mean()-X\"\n",
       "2. \"tBodyAcc-mean()-Y\"\n",
       "3. \"tBodyAcc-mean()-Z\"\n",
       "4. \"tBodyAcc-std()-X\"\n",
       "5. \"tBodyAcc-std()-Y\"\n",
       "6. \"tBodyAcc-std()-Z\"\n",
       "7. \"tBodyAcc-mad()-X\"\n",
       "8. \"tBodyAcc-mad()-Y\"\n",
       "9. \"tBodyAcc-mad()-Z\"\n",
       "10. \"tBodyAcc-max()-X\"\n",
       "11. \"tBodyAcc-max()-Y\"\n",
       "12. \"tBodyAcc-max()-Z\"\n",
       "\n",
       "\n"
      ],
      "text/plain": [
       " [1] \"tBodyAcc-mean()-X\" \"tBodyAcc-mean()-Y\" \"tBodyAcc-mean()-Z\"\n",
       " [4] \"tBodyAcc-std()-X\"  \"tBodyAcc-std()-Y\"  \"tBodyAcc-std()-Z\" \n",
       " [7] \"tBodyAcc-mad()-X\"  \"tBodyAcc-mad()-Y\"  \"tBodyAcc-mad()-Z\" \n",
       "[10] \"tBodyAcc-max()-X\"  \"tBodyAcc-max()-Y\"  \"tBodyAcc-max()-Z\" "
      ]
     },
     "metadata": {},
     "output_type": "display_data"
    }
   ],
   "source": [
    "#Data obtained from - https://github.com/rdpeng/courses/blob/master/04_ExploratoryAnalysis/clusteringExample/data/samsungData.rda\n",
    "\n",
    "load(\"data/samsungData.rda\")\n",
    "names(samsungData)[1:12]"
   ]
  },
  {
   "cell_type": "code",
   "execution_count": 2,
   "metadata": {
    "collapsed": false
   },
   "outputs": [
    {
     "data": {
      "text/plain": [
       "\n",
       "  laying  sitting standing     walk walkdown   walkup \n",
       "    1407     1286     1374     1226      986     1073 "
      ]
     },
     "metadata": {},
     "output_type": "display_data"
    }
   ],
   "source": [
    "table(samsungData$activity)"
   ]
  },
  {
   "cell_type": "markdown",
   "metadata": {},
   "source": [
    "Plotting average acceleration for first subject"
   ]
  },
  {
   "cell_type": "code",
   "execution_count": 8,
   "metadata": {
    "collapsed": false
   },
   "outputs": [
    {
     "data": {
      "image/png": "[encoded data removed]",
      "text/plain": [
       "plot without title"
      ]
     },
     "metadata": {},
     "output_type": "display_data"
    }
   ],
   "source": [
    "par(mfrow = c(1,2), mar = c(5,4,1,1))\n",
    "samsungData <- transform(samsungData, activity = factor(activity))\n",
    "sub1 <- subset(samsungData, subject ==1)\n",
    "plot(sub1[,1], col = sub1$activity, ylab = names(sub1)[1])\n",
    "plot(sub1[,2], col = sub1$activity, ylab = names(sub1)[2])\n",
    "legend(\"bottomright\", legend = unique(sub1$activity), col = unique(sub1$activity), pch =1)"
   ]
  },
  {
   "cell_type": "markdown",
   "metadata": {},
   "source": [
    "Plotting max acceleration for the first subject"
   ]
  },
  {
   "cell_type": "code",
   "execution_count": 10,
   "metadata": {
    "collapsed": false
   },
   "outputs": [
    {
     "data": {
      "image/png": "[encoded data removed]",
      "text/plain": [
       "plot without title"
      ]
     },
     "metadata": {},
     "output_type": "display_data"
    }
   ],
   "source": [
    "par(mfrow = c(1,2))\n",
    "plot(sub1[,10], pch = 19, col = sub1$activity, ylab = names(sub1)[10])\n",
    "plot(sub1[,11], pch = 19, col = sub1$activity, ylab = names(sub1)[11])"
   ]
  },
  {
   "cell_type": "markdown",
   "metadata": {},
   "source": [
    "Singular Value Decomposition"
   ]
  },
  {
   "cell_type": "code",
   "execution_count": 12,
   "metadata": {
    "collapsed": false
   },
   "outputs": [
    {
     "data": {
      "image/png": "[encoded data removed]",
      "text/plain": [
       "plot without title"
      ]
     },
     "metadata": {},
     "output_type": "display_data"
    }
   ],
   "source": [
    "svd1 = svd(scale(sub1[, -c(562, 563)]))\n",
    "par(mfrow = c(1,2))\n",
    "plot(svd1$u[,1], col = sub1$activity, pch = 19)\n",
    "plot(svd1$u[,2], col = sub1$activity, pch = 19)"
   ]
  },
  {
   "cell_type": "markdown",
   "metadata": {},
   "source": [
    "Find maximum contributor"
   ]
  },
  {
   "cell_type": "code",
   "execution_count": 13,
   "metadata": {
    "collapsed": false
   },
   "outputs": [
    {
     "data": {
      "image/png": "[encoded data removed]",
      "text/plain": [
       "plot without title"
      ]
     },
     "metadata": {},
     "output_type": "display_data"
    }
   ],
   "source": [
    "plot(svd1$v[,2], pch = 19)"
   ]
  },
  {
   "cell_type": "code",
   "execution_count": 14,
   "metadata": {
    "collapsed": false
   },
   "outputs": [
    {
     "data": {
      "text/html": [
       "\"fBodyAcc.meanFreq...Z\""
      ],
      "text/latex": [
       "\"fBodyAcc.meanFreq...Z\""
      ],
      "text/markdown": [
       "\"fBodyAcc.meanFreq...Z\""
      ],
      "text/plain": [
       "[1] \"fBodyAcc.meanFreq...Z\""
      ]
     },
     "metadata": {},
     "output_type": "display_data"
    }
   ],
   "source": [
    "maxContrib <- which.max(svd1$v[,2]) #determine the max conributor is\n",
    "names(samsungData)[maxContrib]\n"
   ]
  },
  {
   "cell_type": "markdown",
   "metadata": {},
   "source": [
    "K Means clustering"
   ]
  },
  {
   "cell_type": "code",
   "execution_count": 15,
   "metadata": {
    "collapsed": false
   },
   "outputs": [
    {
     "data": {
      "text/plain": [
       "   \n",
       "    laying sitting standing walk walkdown walkup\n",
       "  1     26      34       48    0        0      0\n",
       "  2      0       0        0   95        0      0\n",
       "  3      5       0        0    0        0     53\n",
       "  4     19      13        5    0        0      0\n",
       "  5      0       0        0    0       23      0\n",
       "  6      0       0        0    0       26      0"
      ]
     },
     "metadata": {},
     "output_type": "display_data"
    }
   ],
   "source": [
    "kClust <- kmeans(sub1[, -c(562, 563)], centers = 6) #nstart = 1, first try\n",
    "table(kClust$cluster, sub1$activity)"
   ]
  },
  {
   "cell_type": "code",
   "execution_count": 18,
   "metadata": {
    "collapsed": false
   },
   "outputs": [
    {
     "data": {
      "text/plain": [
       "   \n",
       "    laying sitting standing walk walkdown walkup\n",
       "  1      0      37       51    0        0      0\n",
       "  2     29       0        0    0        0      0\n",
       "  3      0       0        0    0       49      0\n",
       "  4      0       0        0   95        0      0\n",
       "  5      3       0        0    0        0     53\n",
       "  6     18      10        2    0        0      0"
      ]
     },
     "metadata": {},
     "output_type": "display_data"
    }
   ],
   "source": [
    "kClust <- kmeans(sub1[, -c(562, 563)], centers = 6, nstart = 100) \n",
    "table(kClust$cluster, sub1$activity)"
   ]
  },
  {
   "cell_type": "code",
   "execution_count": 19,
   "metadata": {
    "collapsed": false
   },
   "outputs": [
    {
     "data": {
      "image/png": "[encoded data removed]",
      "text/plain": [
       "plot without title"
      ]
     },
     "metadata": {},
     "output_type": "display_data"
    }
   ],
   "source": [
    "plot(kClust$center[1,1:10], pch = 19, ylab = \"Cluster Center\", xlab = \"\" ) #Laying"
   ]
  },
  {
   "cell_type": "markdown",
   "metadata": {},
   "source": [
    "## Air Pollution Case Study"
   ]
  },
  {
   "cell_type": "code",
   "execution_count": 24,
   "metadata": {
    "collapsed": false
   },
   "outputs": [],
   "source": [
    "pm0 <- read.csv(\"data/daily_88101_2009.csv\")\n",
    "pm1 <- read.csv(\"data/daily_88101_2012.csv\")"
   ]
  },
  {
   "cell_type": "code",
   "execution_count": 22,
   "metadata": {
    "collapsed": false
   },
   "outputs": [
    {
     "data": {
      "text/html": [
       "<ol class=list-inline>\n",
       "\t<li>200653</li>\n",
       "\t<li>29</li>\n",
       "</ol>\n"
      ],
      "text/latex": [
       "\\begin{enumerate*}\n",
       "\\item 200653\n",
       "\\item 29\n",
       "\\end{enumerate*}\n"
      ],
      "text/markdown": [
       "1. 200653\n",
       "2. 29\n",
       "\n",
       "\n"
      ],
      "text/plain": [
       "[1] 200653     29"
      ]
     },
     "metadata": {},
     "output_type": "display_data"
    }
   ],
   "source": [
    "dim(pm0)"
   ]
  },
  {
   "cell_type": "code",
   "execution_count": 23,
   "metadata": {
    "collapsed": false
   },
   "outputs": [
    {
     "data": {
      "text/html": [
       "<table>\n",
       "<thead><tr><th></th><th scope=col>State.Code</th><th scope=col>County.Code</th><th scope=col>Site.Num</th><th scope=col>Parameter.Code</th><th scope=col>POC</th><th scope=col>Latitude</th><th scope=col>Longitude</th><th scope=col>Datum</th><th scope=col>Parameter.Name</th><th scope=col>Sample.Duration</th><th scope=col>...</th><th scope=col>AQI</th><th scope=col>Method.Code</th><th scope=col>Method.Name</th><th scope=col>Local.Site.Name</th><th scope=col>Address</th><th scope=col>State.Name</th><th scope=col>County.Name</th><th scope=col>City.Name</th><th scope=col>CBSA.Name</th><th scope=col>Date.of.Last.Change</th></tr></thead>\n",
       "<tbody>\n",
       "\t<tr><th scope=row>1</th><td>1                                                         </td><td>3                                                         </td><td>10                                                        </td><td>88101                                                     </td><td>1                                                         </td><td>30.498001                                                 </td><td>-87.881412                                                </td><td>NAD83                                                     </td><td>PM2.5 - Local Conditions                                  </td><td>24 HOUR                                                   </td><td>...                                                       </td><td>56                                                        </td><td>118                                                       </td><td>R &amp; P Model 2025 PM2.5 Sequential w/WINS - GRAVIMETRIC</td><td>FAIRHOPE, Alabama                                         </td><td>FAIRHOPE HIGH SCHOOL, FAIRHOPE,  ALABAMA                  </td><td>Alabama                                                   </td><td>Baldwin                                                   </td><td>Fairhope                                                  </td><td>Daphne-Fairhope-Foley, AL                                 </td><td>2015-04-01                                                </td></tr>\n",
       "\t<tr><th scope=row>2</th><td>1                                                         </td><td>3                                                         </td><td>10                                                        </td><td>88101                                                     </td><td>1                                                         </td><td>30.498001                                                 </td><td>-87.881412                                                </td><td>NAD83                                                     </td><td>PM2.5 - Local Conditions                                  </td><td>24 HOUR                                                   </td><td>...                                                       </td><td>18                                                        </td><td>118                                                       </td><td>R &amp; P Model 2025 PM2.5 Sequential w/WINS - GRAVIMETRIC</td><td>FAIRHOPE, Alabama                                         </td><td>FAIRHOPE HIGH SCHOOL, FAIRHOPE,  ALABAMA                  </td><td>Alabama                                                   </td><td>Baldwin                                                   </td><td>Fairhope                                                  </td><td>Daphne-Fairhope-Foley, AL                                 </td><td>2015-04-01                                                </td></tr>\n",
       "\t<tr><th scope=row>3</th><td>1                                                         </td><td>3                                                         </td><td>10                                                        </td><td>88101                                                     </td><td>1                                                         </td><td>30.498001                                                 </td><td>-87.881412                                                </td><td>NAD83                                                     </td><td>PM2.5 - Local Conditions                                  </td><td>24 HOUR                                                   </td><td>...                                                       </td><td>20                                                        </td><td>118                                                       </td><td>R &amp; P Model 2025 PM2.5 Sequential w/WINS - GRAVIMETRIC</td><td>FAIRHOPE, Alabama                                         </td><td>FAIRHOPE HIGH SCHOOL, FAIRHOPE,  ALABAMA                  </td><td>Alabama                                                   </td><td>Baldwin                                                   </td><td>Fairhope                                                  </td><td>Daphne-Fairhope-Foley, AL                                 </td><td>2015-04-01                                                </td></tr>\n",
       "\t<tr><th scope=row>4</th><td>1                                                         </td><td>3                                                         </td><td>10                                                        </td><td>88101                                                     </td><td>1                                                         </td><td>30.498001                                                 </td><td>-87.881412                                                </td><td>NAD83                                                     </td><td>PM2.5 - Local Conditions                                  </td><td>24 HOUR                                                   </td><td>...                                                       </td><td>30                                                        </td><td>118                                                       </td><td>R &amp; P Model 2025 PM2.5 Sequential w/WINS - GRAVIMETRIC</td><td>FAIRHOPE, Alabama                                         </td><td>FAIRHOPE HIGH SCHOOL, FAIRHOPE,  ALABAMA                  </td><td>Alabama                                                   </td><td>Baldwin                                                   </td><td>Fairhope                                                  </td><td>Daphne-Fairhope-Foley, AL                                 </td><td>2015-04-01                                                </td></tr>\n",
       "\t<tr><th scope=row>5</th><td>1                                                         </td><td>3                                                         </td><td>10                                                        </td><td>88101                                                     </td><td>1                                                         </td><td>30.498001                                                 </td><td>-87.881412                                                </td><td>NAD83                                                     </td><td>PM2.5 - Local Conditions                                  </td><td>24 HOUR                                                   </td><td>...                                                       </td><td>33                                                        </td><td>118                                                       </td><td>R &amp; P Model 2025 PM2.5 Sequential w/WINS - GRAVIMETRIC</td><td>FAIRHOPE, Alabama                                         </td><td>FAIRHOPE HIGH SCHOOL, FAIRHOPE,  ALABAMA                  </td><td>Alabama                                                   </td><td>Baldwin                                                   </td><td>Fairhope                                                  </td><td>Daphne-Fairhope-Foley, AL                                 </td><td>2015-04-01                                                </td></tr>\n",
       "\t<tr><th scope=row>6</th><td>1                                                         </td><td>3                                                         </td><td>10                                                        </td><td>88101                                                     </td><td>1                                                         </td><td>30.498001                                                 </td><td>-87.881412                                                </td><td>NAD83                                                     </td><td>PM2.5 - Local Conditions                                  </td><td>24 HOUR                                                   </td><td>...                                                       </td><td>46                                                        </td><td>118                                                       </td><td>R &amp; P Model 2025 PM2.5 Sequential w/WINS - GRAVIMETRIC</td><td>FAIRHOPE, Alabama                                         </td><td>FAIRHOPE HIGH SCHOOL, FAIRHOPE,  ALABAMA                  </td><td>Alabama                                                   </td><td>Baldwin                                                   </td><td>Fairhope                                                  </td><td>Daphne-Fairhope-Foley, AL                                 </td><td>2015-04-01                                                </td></tr>\n",
       "</tbody>\n",
       "</table>\n"
      ],
      "text/latex": [
       "\\begin{tabular}{r|lllllllllllllllllllllllllllll}\n",
       "  & State.Code & County.Code & Site.Num & Parameter.Code & POC & Latitude & Longitude & Datum & Parameter.Name & Sample.Duration & ... & AQI & Method.Code & Method.Name & Local.Site.Name & Address & State.Name & County.Name & City.Name & CBSA.Name & Date.of.Last.Change\\\\\n",
       "\\hline\n",
       "\t1 & 1                                                        & 3                                                        & 10                                                       & 88101                                                    & 1                                                        & 30.498001                                                & -87.881412                                               & NAD83                                                    & PM2.5 - Local Conditions                                 & 24 HOUR                                                  & ...                                                      & 56                                                       & 118                                                      & R \\& P Model 2025 PM2.5 Sequential w/WINS - GRAVIMETRIC & FAIRHOPE, Alabama                                        & FAIRHOPE HIGH SCHOOL, FAIRHOPE,  ALABAMA                 & Alabama                                                  & Baldwin                                                  & Fairhope                                                 & Daphne-Fairhope-Foley, AL                                & 2015-04-01                                              \\\\\n",
       "\t2 & 1                                                        & 3                                                        & 10                                                       & 88101                                                    & 1                                                        & 30.498001                                                & -87.881412                                               & NAD83                                                    & PM2.5 - Local Conditions                                 & 24 HOUR                                                  & ...                                                      & 18                                                       & 118                                                      & R \\& P Model 2025 PM2.5 Sequential w/WINS - GRAVIMETRIC & FAIRHOPE, Alabama                                        & FAIRHOPE HIGH SCHOOL, FAIRHOPE,  ALABAMA                 & Alabama                                                  & Baldwin                                                  & Fairhope                                                 & Daphne-Fairhope-Foley, AL                                & 2015-04-01                                              \\\\\n",
       "\t3 & 1                                                        & 3                                                        & 10                                                       & 88101                                                    & 1                                                        & 30.498001                                                & -87.881412                                               & NAD83                                                    & PM2.5 - Local Conditions                                 & 24 HOUR                                                  & ...                                                      & 20                                                       & 118                                                      & R \\& P Model 2025 PM2.5 Sequential w/WINS - GRAVIMETRIC & FAIRHOPE, Alabama                                        & FAIRHOPE HIGH SCHOOL, FAIRHOPE,  ALABAMA                 & Alabama                                                  & Baldwin                                                  & Fairhope                                                 & Daphne-Fairhope-Foley, AL                                & 2015-04-01                                              \\\\\n",
       "\t4 & 1                                                        & 3                                                        & 10                                                       & 88101                                                    & 1                                                        & 30.498001                                                & -87.881412                                               & NAD83                                                    & PM2.5 - Local Conditions                                 & 24 HOUR                                                  & ...                                                      & 30                                                       & 118                                                      & R \\& P Model 2025 PM2.5 Sequential w/WINS - GRAVIMETRIC & FAIRHOPE, Alabama                                        & FAIRHOPE HIGH SCHOOL, FAIRHOPE,  ALABAMA                 & Alabama                                                  & Baldwin                                                  & Fairhope                                                 & Daphne-Fairhope-Foley, AL                                & 2015-04-01                                              \\\\\n",
       "\t5 & 1                                                        & 3                                                        & 10                                                       & 88101                                                    & 1                                                        & 30.498001                                                & -87.881412                                               & NAD83                                                    & PM2.5 - Local Conditions                                 & 24 HOUR                                                  & ...                                                      & 33                                                       & 118                                                      & R \\& P Model 2025 PM2.5 Sequential w/WINS - GRAVIMETRIC & FAIRHOPE, Alabama                                        & FAIRHOPE HIGH SCHOOL, FAIRHOPE,  ALABAMA                 & Alabama                                                  & Baldwin                                                  & Fairhope                                                 & Daphne-Fairhope-Foley, AL                                & 2015-04-01                                              \\\\\n",
       "\t6 & 1                                                        & 3                                                        & 10                                                       & 88101                                                    & 1                                                        & 30.498001                                                & -87.881412                                               & NAD83                                                    & PM2.5 - Local Conditions                                 & 24 HOUR                                                  & ...                                                      & 46                                                       & 118                                                      & R \\& P Model 2025 PM2.5 Sequential w/WINS - GRAVIMETRIC & FAIRHOPE, Alabama                                        & FAIRHOPE HIGH SCHOOL, FAIRHOPE,  ALABAMA                 & Alabama                                                  & Baldwin                                                  & Fairhope                                                 & Daphne-Fairhope-Foley, AL                                & 2015-04-01                                              \\\\\n",
       "\\end{tabular}\n"
      ],
      "text/plain": [
       "  State.Code County.Code Site.Num Parameter.Code POC Latitude Longitude Datum\n",
       "1          1           3       10          88101   1   30.498 -87.88141 NAD83\n",
       "2          1           3       10          88101   1   30.498 -87.88141 NAD83\n",
       "3          1           3       10          88101   1   30.498 -87.88141 NAD83\n",
       "4          1           3       10          88101   1   30.498 -87.88141 NAD83\n",
       "5          1           3       10          88101   1   30.498 -87.88141 NAD83\n",
       "6          1           3       10          88101   1   30.498 -87.88141 NAD83\n",
       "            Parameter.Name Sample.Duration ... AQI Method.Code\n",
       "1 PM2.5 - Local Conditions         24 HOUR ...  56         118\n",
       "2 PM2.5 - Local Conditions         24 HOUR ...  18         118\n",
       "3 PM2.5 - Local Conditions         24 HOUR ...  20         118\n",
       "4 PM2.5 - Local Conditions         24 HOUR ...  30         118\n",
       "5 PM2.5 - Local Conditions         24 HOUR ...  33         118\n",
       "6 PM2.5 - Local Conditions         24 HOUR ...  46         118\n",
       "                                             Method.Name   Local.Site.Name\n",
       "1 R & P Model 2025 PM2.5 Sequential w/WINS - GRAVIMETRIC FAIRHOPE, Alabama\n",
       "2 R & P Model 2025 PM2.5 Sequential w/WINS - GRAVIMETRIC FAIRHOPE, Alabama\n",
       "3 R & P Model 2025 PM2.5 Sequential w/WINS - GRAVIMETRIC FAIRHOPE, Alabama\n",
       "4 R & P Model 2025 PM2.5 Sequential w/WINS - GRAVIMETRIC FAIRHOPE, Alabama\n",
       "5 R & P Model 2025 PM2.5 Sequential w/WINS - GRAVIMETRIC FAIRHOPE, Alabama\n",
       "6 R & P Model 2025 PM2.5 Sequential w/WINS - GRAVIMETRIC FAIRHOPE, Alabama\n",
       "                                   Address State.Name County.Name City.Name\n",
       "1 FAIRHOPE HIGH SCHOOL, FAIRHOPE,  ALABAMA    Alabama     Baldwin  Fairhope\n",
       "2 FAIRHOPE HIGH SCHOOL, FAIRHOPE,  ALABAMA    Alabama     Baldwin  Fairhope\n",
       "3 FAIRHOPE HIGH SCHOOL, FAIRHOPE,  ALABAMA    Alabama     Baldwin  Fairhope\n",
       "4 FAIRHOPE HIGH SCHOOL, FAIRHOPE,  ALABAMA    Alabama     Baldwin  Fairhope\n",
       "5 FAIRHOPE HIGH SCHOOL, FAIRHOPE,  ALABAMA    Alabama     Baldwin  Fairhope\n",
       "6 FAIRHOPE HIGH SCHOOL, FAIRHOPE,  ALABAMA    Alabama     Baldwin  Fairhope\n",
       "                  CBSA.Name Date.of.Last.Change\n",
       "1 Daphne-Fairhope-Foley, AL          2015-04-01\n",
       "2 Daphne-Fairhope-Foley, AL          2015-04-01\n",
       "3 Daphne-Fairhope-Foley, AL          2015-04-01\n",
       "4 Daphne-Fairhope-Foley, AL          2015-04-01\n",
       "5 Daphne-Fairhope-Foley, AL          2015-04-01\n",
       "6 Daphne-Fairhope-Foley, AL          2015-04-01"
      ]
     },
     "metadata": {},
     "output_type": "display_data"
    }
   ],
   "source": [
    "head(pm0)"
   ]
  },
  {
   "cell_type": "code",
   "execution_count": 25,
   "metadata": {
    "collapsed": false
   },
   "outputs": [
    {
     "data": {
      "text/html": [
       "<ol class=list-inline>\n",
       "\t<li>\"State.Code\"</li>\n",
       "\t<li>\"County.Code\"</li>\n",
       "\t<li>\"Site.Num\"</li>\n",
       "\t<li>\"Parameter.Code\"</li>\n",
       "\t<li>\"POC\"</li>\n",
       "\t<li>\"Latitude\"</li>\n",
       "\t<li>\"Longitude\"</li>\n",
       "\t<li>\"Datum\"</li>\n",
       "\t<li>\"Parameter.Name\"</li>\n",
       "\t<li>\"Sample.Duration\"</li>\n",
       "\t<li>\"Pollutant.Standard\"</li>\n",
       "\t<li>\"Date.Local\"</li>\n",
       "\t<li>\"Units.of.Measure\"</li>\n",
       "\t<li>\"Event.Type\"</li>\n",
       "\t<li>\"Observation.Count\"</li>\n",
       "\t<li>\"Observation.Percent\"</li>\n",
       "\t<li>\"Arithmetic.Mean\"</li>\n",
       "\t<li>\"X1st.Max.Value\"</li>\n",
       "\t<li>\"X1st.Max.Hour\"</li>\n",
       "\t<li>\"AQI\"</li>\n",
       "\t<li>\"Method.Code\"</li>\n",
       "\t<li>\"Method.Name\"</li>\n",
       "\t<li>\"Local.Site.Name\"</li>\n",
       "\t<li>\"Address\"</li>\n",
       "\t<li>\"State.Name\"</li>\n",
       "\t<li>\"County.Name\"</li>\n",
       "\t<li>\"City.Name\"</li>\n",
       "\t<li>\"CBSA.Name\"</li>\n",
       "\t<li>\"Date.of.Last.Change\"</li>\n",
       "</ol>\n"
      ],
      "text/latex": [
       "\\begin{enumerate*}\n",
       "\\item \"State.Code\"\n",
       "\\item \"County.Code\"\n",
       "\\item \"Site.Num\"\n",
       "\\item \"Parameter.Code\"\n",
       "\\item \"POC\"\n",
       "\\item \"Latitude\"\n",
       "\\item \"Longitude\"\n",
       "\\item \"Datum\"\n",
       "\\item \"Parameter.Name\"\n",
       "\\item \"Sample.Duration\"\n",
       "\\item \"Pollutant.Standard\"\n",
       "\\item \"Date.Local\"\n",
       "\\item \"Units.of.Measure\"\n",
       "\\item \"Event.Type\"\n",
       "\\item \"Observation.Count\"\n",
       "\\item \"Observation.Percent\"\n",
       "\\item \"Arithmetic.Mean\"\n",
       "\\item \"X1st.Max.Value\"\n",
       "\\item \"X1st.Max.Hour\"\n",
       "\\item \"AQI\"\n",
       "\\item \"Method.Code\"\n",
       "\\item \"Method.Name\"\n",
       "\\item \"Local.Site.Name\"\n",
       "\\item \"Address\"\n",
       "\\item \"State.Name\"\n",
       "\\item \"County.Name\"\n",
       "\\item \"City.Name\"\n",
       "\\item \"CBSA.Name\"\n",
       "\\item \"Date.of.Last.Change\"\n",
       "\\end{enumerate*}\n"
      ],
      "text/markdown": [
       "1. \"State.Code\"\n",
       "2. \"County.Code\"\n",
       "3. \"Site.Num\"\n",
       "4. \"Parameter.Code\"\n",
       "5. \"POC\"\n",
       "6. \"Latitude\"\n",
       "7. \"Longitude\"\n",
       "8. \"Datum\"\n",
       "9. \"Parameter.Name\"\n",
       "10. \"Sample.Duration\"\n",
       "11. \"Pollutant.Standard\"\n",
       "12. \"Date.Local\"\n",
       "13. \"Units.of.Measure\"\n",
       "14. \"Event.Type\"\n",
       "15. \"Observation.Count\"\n",
       "16. \"Observation.Percent\"\n",
       "17. \"Arithmetic.Mean\"\n",
       "18. \"X1st.Max.Value\"\n",
       "19. \"X1st.Max.Hour\"\n",
       "20. \"AQI\"\n",
       "21. \"Method.Code\"\n",
       "22. \"Method.Name\"\n",
       "23. \"Local.Site.Name\"\n",
       "24. \"Address\"\n",
       "25. \"State.Name\"\n",
       "26. \"County.Name\"\n",
       "27. \"City.Name\"\n",
       "28. \"CBSA.Name\"\n",
       "29. \"Date.of.Last.Change\"\n",
       "\n",
       "\n"
      ],
      "text/plain": [
       " [1] \"State.Code\"          \"County.Code\"         \"Site.Num\"           \n",
       " [4] \"Parameter.Code\"      \"POC\"                 \"Latitude\"           \n",
       " [7] \"Longitude\"           \"Datum\"               \"Parameter.Name\"     \n",
       "[10] \"Sample.Duration\"     \"Pollutant.Standard\"  \"Date.Local\"         \n",
       "[13] \"Units.of.Measure\"    \"Event.Type\"          \"Observation.Count\"  \n",
       "[16] \"Observation.Percent\" \"Arithmetic.Mean\"     \"X1st.Max.Value\"     \n",
       "[19] \"X1st.Max.Hour\"       \"AQI\"                 \"Method.Code\"        \n",
       "[22] \"Method.Name\"         \"Local.Site.Name\"     \"Address\"            \n",
       "[25] \"State.Name\"          \"County.Name\"         \"City.Name\"          \n",
       "[28] \"CBSA.Name\"           \"Date.of.Last.Change\""
      ]
     },
     "metadata": {},
     "output_type": "display_data"
    }
   ],
   "source": [
    "names(pm0)"
   ]
  },
  {
   "cell_type": "code",
   "execution_count": 28,
   "metadata": {
    "collapsed": true
   },
   "outputs": [],
   "source": [
    "x0 <- pm0$Pollutant.Standard"
   ]
  },
  {
   "cell_type": "code",
   "execution_count": 29,
   "metadata": {
    "collapsed": false
   },
   "outputs": [
    {
     "data": {
      "text/html": [
       "<ol class=list-inline>\n",
       "\t<li>PM25 24-hour 2006</li>\n",
       "\t<li>PM25 24-hour 2006</li>\n",
       "\t<li>PM25 24-hour 2006</li>\n",
       "\t<li>PM25 24-hour 2006</li>\n",
       "\t<li>PM25 24-hour 2006</li>\n",
       "\t<li>PM25 24-hour 2006</li>\n",
       "</ol>\n"
      ],
      "text/latex": [
       "\\begin{enumerate*}\n",
       "\\item PM25 24-hour 2006\n",
       "\\item PM25 24-hour 2006\n",
       "\\item PM25 24-hour 2006\n",
       "\\item PM25 24-hour 2006\n",
       "\\item PM25 24-hour 2006\n",
       "\\item PM25 24-hour 2006\n",
       "\\end{enumerate*}\n"
      ],
      "text/markdown": [
       "1. PM25 24-hour 2006\n",
       "2. PM25 24-hour 2006\n",
       "3. PM25 24-hour 2006\n",
       "4. PM25 24-hour 2006\n",
       "5. PM25 24-hour 2006\n",
       "6. PM25 24-hour 2006\n",
       "\n",
       "\n"
      ],
      "text/plain": [
       "[1] PM25 24-hour 2006 PM25 24-hour 2006 PM25 24-hour 2006 PM25 24-hour 2006\n",
       "[5] PM25 24-hour 2006 PM25 24-hour 2006\n",
       "Levels:  PM25 24-hour 2006"
      ]
     },
     "metadata": {},
     "output_type": "display_data"
    }
   ],
   "source": [
    "head(x0)"
   ]
  },
  {
   "cell_type": "code",
   "execution_count": null,
   "metadata": {
    "collapsed": true
   },
   "outputs": [],
   "source": []
  }
 ],
 "metadata": {
  "anaconda-cloud": {},
  "kernelspec": {
   "display_name": "R",
   "language": "R",
   "name": "ir"
  },
  "language_info": {
   "codemirror_mode": "r",
   "file_extension": ".r",
   "mimetype": "text/x-r-source",
   "name": "R",
   "pygments_lexer": "r",
   "version": "3.3.1"
  }
 },
 "nbformat": 4,
 "nbformat_minor": 1
}
