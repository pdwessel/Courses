{
 "cells": [
  {
   "cell_type": "code",
   "execution_count": 37,
   "metadata": {
    "collapsed": true
   },
   "outputs": [],
   "source": [
    "#Setup some notebook plot parameters\n",
    "library(repr)\n",
    "options(repr.plot.width = 5, repr.plot.height = 5, repr.plot.pointsize = 8)"
   ]
  },
  {
   "cell_type": "markdown",
   "metadata": {},
   "source": [
    "#### Probability"
   ]
  },
  {
   "cell_type": "markdown",
   "metadata": {},
   "source": [
    "Given a random experiment, a probability measure is a population quantity that summarizes the randomness.\n",
    "\n",
    "#### Rules of probability\n",
    "\n",
    "* P(A$\\cup$B) = P(A) + P(N) - P(A$\\cap$B)"
   ]
  },
  {
   "cell_type": "markdown",
   "metadata": {
    "collapsed": true
   },
   "source": [
    "#### Probability Mass Function (PMF)\n",
    "\n",
    "A probability mass function evaluated at a value corresponds to the probability that a random variable takes that value. To be a valid PMF a function, $p$, must satisfy:\n",
    "\n",
    "1. It must always be larger than or equal to 0.\n",
    "2. The sum of possible values than the random variable can take has to add up to one."
   ]
  },
  {
   "cell_type": "markdown",
   "metadata": {},
   "source": [
    "#### Example - Bernoulli Distribution\n",
    "\n",
    "$X=0$ represents tails and $X=1$ represents heads\n",
    "\n",
    "$p(x) = (1/2)^{x}(1/2)^{1-x}$ for $x = 0,1$\n",
    "\n",
    "or more generally\n",
    "\n",
    "$p(x) = \\theta^{x}(1-\\theta)^{1-x}$ for $x = 0,1$"
   ]
  },
  {
   "cell_type": "markdown",
   "metadata": {},
   "source": [
    "#### Probability Density Function (PDF)\n",
    "\n",
    "To be a vaild PDF:\n",
    "\n",
    "1. It must be larger than 0 everywhere.\n",
    "2. The total area under it must be one."
   ]
  },
  {
   "cell_type": "code",
   "execution_count": 1,
   "metadata": {
    "collapsed": false
   },
   "outputs": [
    {
     "data": {
      "text/html": [
       "0.5625"
      ],
      "text/latex": [
       "0.5625"
      ],
      "text/markdown": [
       "0.5625"
      ],
      "text/plain": [
       "[1] 0.5625"
      ]
     },
     "metadata": {},
     "output_type": "display_data"
    }
   ],
   "source": [
    "pbeta(0.75, 2,1)"
   ]
  },
  {
   "cell_type": "markdown",
   "metadata": {},
   "source": [
    "#### Cumulative Distribution Function (CDF)\n",
    "\n",
    "The CDF of a random variable, $X$, returns the probability that the random variable is less than or equal to the value $x$\n",
    "\n",
    "$$F(x) = P(X\\leq x)$$"
   ]
  },
  {
   "cell_type": "markdown",
   "metadata": {
    "collapsed": true
   },
   "source": [
    "#### Conditional Probability\n",
    "\n",
    "$$P(A|B) = \\frac{P(A\\cap B)}{P(B)}$$"
   ]
  },
  {
   "cell_type": "markdown",
   "metadata": {},
   "source": [
    "#### Bayes' Rule\n",
    "\n",
    "$$P(B|A)  = \\frac{P(A|B)P(B)}{P(A|B)P(B)+P(A|B^{C})P(B^{C})}$$"
   ]
  },
  {
   "cell_type": "code",
   "execution_count": 2,
   "metadata": {
    "collapsed": false
   },
   "outputs": [
    {
     "name": "stderr",
     "output_type": "stream",
     "text": [
      "also installing the dependencies 'backports', 'scales', 'checkmate', 'survival', 'Formula', 'ggplot2', 'latticeExtra', 'acepack', 'gridExtra', 'htmlTable', 'viridis', 'HistData', 'Hmisc'\n",
      "\n"
     ]
    },
    {
     "name": "stdout",
     "output_type": "stream",
     "text": [
      "package 'backports' successfully unpacked and MD5 sums checked\n",
      "package 'scales' successfully unpacked and MD5 sums checked\n",
      "package 'checkmate' successfully unpacked and MD5 sums checked\n",
      "package 'survival' successfully unpacked and MD5 sums checked\n",
      "package 'Formula' successfully unpacked and MD5 sums checked\n",
      "package 'ggplot2' successfully unpacked and MD5 sums checked\n",
      "package 'latticeExtra' successfully unpacked and MD5 sums checked\n",
      "package 'acepack' successfully unpacked and MD5 sums checked\n",
      "package 'gridExtra' successfully unpacked and MD5 sums checked\n",
      "package 'htmlTable' successfully unpacked and MD5 sums checked\n",
      "package 'viridis' successfully unpacked and MD5 sums checked\n",
      "package 'HistData' successfully unpacked and MD5 sums checked\n",
      "package 'Hmisc' successfully unpacked and MD5 sums checked\n",
      "package 'UsingR' successfully unpacked and MD5 sums checked\n",
      "\n",
      "The downloaded binary packages are in\n",
      "\tC:\\cygwin64\\tmp\\RtmpaCbU8F\\downloaded_packages\n"
     ]
    }
   ],
   "source": [
    "install.packages('UsingR', repos='http://cran.us.r-project.org')"
   ]
  },
  {
   "cell_type": "code",
   "execution_count": 3,
   "metadata": {
    "collapsed": false
   },
   "outputs": [
    {
     "name": "stderr",
     "output_type": "stream",
     "text": [
      "Warning message:\n",
      "\"package 'UsingR' was built under R version 3.3.2\"Loading required package: MASS\n",
      "Loading required package: HistData\n",
      "Warning message:\n",
      "\"package 'HistData' was built under R version 3.3.2\"Loading required package: Hmisc\n",
      "Warning message:\n",
      "\"package 'Hmisc' was built under R version 3.3.2\"Loading required package: lattice\n",
      "Loading required package: survival\n",
      "Warning message:\n",
      "\"package 'survival' was built under R version 3.3.2\"Loading required package: Formula\n",
      "Warning message:\n",
      "\"package 'Formula' was built under R version 3.3.2\"Loading required package: ggplot2\n",
      "Warning message:\n",
      "\"package 'ggplot2' was built under R version 3.3.2\"\n",
      "Attaching package: 'Hmisc'\n",
      "\n",
      "The following objects are masked from 'package:base':\n",
      "\n",
      "    format.pval, round.POSIXt, trunc.POSIXt, units\n",
      "\n",
      "\n",
      "Attaching package: 'UsingR'\n",
      "\n",
      "The following object is masked from 'package:survival':\n",
      "\n",
      "    cancer\n",
      "\n"
     ]
    }
   ],
   "source": [
    "library(UsingR)"
   ]
  },
  {
   "cell_type": "code",
   "execution_count": 4,
   "metadata": {
    "collapsed": true
   },
   "outputs": [],
   "source": [
    "library(ggplot2)"
   ]
  },
  {
   "cell_type": "code",
   "execution_count": 5,
   "metadata": {
    "collapsed": true
   },
   "outputs": [],
   "source": [
    "library(reshape2)"
   ]
  },
  {
   "cell_type": "code",
   "execution_count": 6,
   "metadata": {
    "collapsed": true
   },
   "outputs": [],
   "source": [
    "data(galton)"
   ]
  },
  {
   "cell_type": "code",
   "execution_count": 40,
   "metadata": {
    "collapsed": false
   },
   "outputs": [
    {
     "data": {},
     "metadata": {},
     "output_type": "display_data"
    },
    {
     "data": {
      "image/png": "[encoded data removed]",
      "text/plain": [
       "plot without title"
      ]
     },
     "metadata": {},
     "output_type": "display_data"
    }
   ],
   "source": [
    "#Example\n",
    "longGalton <- melt(galton, measure.vars = c(\"child\", \"parent\"))\n",
    "g <- ggplot(longGalton, aes(x = value)) + geom_histogram(aes(y= ..density.., fill = variable), binwidth = 1, colour = \"black\") + geom_density(size = 2)\n",
    "#g <- g + facet_grid(. ~ variable)\n",
    "g"
   ]
  },
  {
   "cell_type": "markdown",
   "metadata": {
    "collapsed": true
   },
   "source": [
    "#### Summarizing\n",
    "\n",
    "* Expected values are properties of distribution\n",
    "* The population mean is the center of mass of population\n",
    "* The sample mean is the center of mass of the observed data\n",
    "* The sample mean is an estimate of the population mean\n",
    "* The sample mean is unbiased\n",
    "    - The population mean of its distribution is the mean that it's trying to estimate\n",
    "* The more data that goes into the sample mean, the more concentrated its density / mass function is around the populatino mean"
   ]
  },
  {
   "cell_type": "code",
   "execution_count": null,
   "metadata": {
    "collapsed": true
   },
   "outputs": [],
   "source": []
  }
 ],
 "metadata": {
  "anaconda-cloud": {},
  "kernelspec": {
   "display_name": "R",
   "language": "R",
   "name": "ir"
  },
  "language_info": {
   "codemirror_mode": "r",
   "file_extension": ".r",
   "mimetype": "text/x-r-source",
   "name": "R",
   "pygments_lexer": "r",
   "version": "3.3.1"
  }
 },
 "nbformat": 4,
 "nbformat_minor": 1
}
