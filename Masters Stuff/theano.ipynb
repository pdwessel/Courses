{
 "metadata": {
  "name": ""
 },
 "nbformat": 3,
 "nbformat_minor": 0,
 "worksheets": [
  {
   "cells": [
    {
     "cell_type": "markdown",
     "metadata": {},
     "source": [
      "# Introducing Theano (Part 1)\n",
      "\n",
      "Adapted from James Bergstra's [IpythonTheanoTutorials](https://github.com/jaberg/IPythonTheanoTutorials).\n",
      "\n",
      "Theano is a Python library that allows you to define, optimize, and evaluate mathematical expressions involving multi-dimensional arrays efficiently. Theano features:\n",
      "\n",
      "* __tight integration with numpy__ \u2013 Use ```numpy.ndarray``` in Theano-compiled functions.\n",
      "* __transparent use of a GPU__ \u2013 Perform data-intensive calculations up to 140x faster than with CPU. (float32 only)\n",
      "* __efficient symbolic differentiation__ \u2013 Theano does your (partial) derivatives for functions with one or many inputs.\n",
      "* __speed and stability optimizations__ \u2013 Get the [right answer](http://docs.scipy.org/doc/numpy/reference/generated/numpy.log1p.html) for $log(1+x)$ even when $x$ is really tiny.\n",
      "* __dynamic C code generation__ \u2013 Evaluate expressions faster (this is why we asked you to install gcc or MinGW).\n",
      "* __extensive unit-testing and self-verification__ \u2013 Detect and diagnose many types of mistake.\n",
      "\n",
      "Theano has been powering large-scale computationally intensive scientific investigations since 2007. \n",
      "\n",
      "## Installation\n",
      "\n",
      "Installation instructions were posted on the CourseLink forum towards the start of the course. So everyone should have Theano installed either in the lab (1313 or 2336) or on their personal computer.\n",
      "\n",
      "When Theano is installed, you will be able to import it in Python like this:"
     ]
    },
    {
     "cell_type": "code",
     "collapsed": false,
     "input": [
      "import theano\n",
      "from theano import tensor as T\n",
      "from theano import function"
     ],
     "language": "python",
     "metadata": {},
     "outputs": [],
     "prompt_number": 25
    },
    {
     "cell_type": "markdown",
     "metadata": {},
     "source": [
      "## Credits\n",
      "\n",
      "Theano has been developed by the [LISA Machine Learning group](http://www.iro.umontreal.ca/~lisa/) at the University of Montreal.\n",
      "\n",
      "* __Yoshua Bengio__ is the lab director who permitted and supported Theano's development.\n",
      "* __Olivier Breuleux__ and __James Bergstra__ wrote the initial versions (starting 2007).\n",
      "* __Frederic Bastien__ and now __Pascal Lamblin__ have taken over as the lead maintainers.\n",
      "* __Razvan Pascanur__ contributed the scan module, and much maintenance.\n",
      "\n",
      "<a href=\"https://github.com/Theano/Theano/graphs\">Many lab members and members of the Python community at large</a> have made significant and helpful contributions. \n",
      "\n",
      "Note that Theano has a much wider scope than a machine learning library, but it has been developed, supported and adopted largely by the deep learning/representation learning community. "
     ]
    },
    {
     "cell_type": "markdown",
     "metadata": {},
     "source": [
      "## Numpy background (review)\n",
      "\n",
      "Recall from our Python introduction that the numpy array:\n",
      "\n",
      "* Is the central object for representing data\n",
      "* Is an n-dimensional generalization of a matrix\n",
      "* Can hold data of various types, like int, float, string, etc.\n",
      "\n",
      "There are several additional numpy resources linked from the introduction notebook.\n",
      "\n",
      "### Matrix conventions for machine learning\n",
      "\n",
      "Rows are horizontal and columns are vertical.\n",
      "Every row is an example. Therefore, inputs[10,5] is a matrix of 10 examples \n",
      "where each example has dimension 5. If this would be the input of a\n",
      "neural network then the weights from the input to the first hidden\n",
      "layer would represent a matrix of size (5, #hid). \n",
      "\n",
      "Consider this array:"
     ]
    },
    {
     "cell_type": "code",
     "collapsed": false,
     "input": [
      "a = np.asarray([[1., 2], [3, 4], [5, 6]])\n",
      "print a\n",
      "print a.shape"
     ],
     "language": "python",
     "metadata": {},
     "outputs": [
      {
       "output_type": "stream",
       "stream": "stdout",
       "text": [
        "[[ 1.  2.]\n",
        " [ 3.  4.]\n",
        " [ 5.  6.]]\n",
        "(3, 2)\n"
       ]
      }
     ],
     "prompt_number": 2
    },
    {
     "cell_type": "markdown",
     "metadata": {},
     "source": [
      "This is a 3x2 matrix, i.e. there are 3 rows and 2 columns.\n",
      "\n",
      "To access the entry in the 3rd row (row #2) and the 1st column (column #0):"
     ]
    },
    {
     "cell_type": "code",
     "collapsed": false,
     "input": [
      "print a[2, 0]"
     ],
     "language": "python",
     "metadata": {},
     "outputs": [
      {
       "output_type": "stream",
       "stream": "stdout",
       "text": [
        "5.0\n"
       ]
      }
     ],
     "prompt_number": 3
    },
    {
     "cell_type": "markdown",
     "metadata": {},
     "source": [
      "To remember this, keep in mind that we read left-to-right, top-to-bottom,\n",
      "so each thing that is contiguous is a row.  That is, there are 3 rows\n",
      "and 2 columns.\n",
      "\n",
      "**Advanced** (don't do this unless you know what you are doing!): You can change between row- and column-contiguous order by setting the ```order``` property when you create an array:"
     ]
    },
    {
     "cell_type": "code",
     "collapsed": false,
     "input": [
      "a = np.asarray([[1., 2], [3, 4], [5, 6]], order='C')  # default, as above (row contiguous, C-style)\n",
      "b = np.asarray([[1., 2], [3, 4], [5, 6]], order='F')  # Like Matlab arrays(column-contiguous, Fortran-style)\n",
      "print a.strides  # need to jump 16 bytes to get to the next row, 8 to the next column\n",
      "print b.strides  # need to jump 8 bytes to get to the next row, 24 to the next column"
     ],
     "language": "python",
     "metadata": {},
     "outputs": [
      {
       "output_type": "stream",
       "stream": "stdout",
       "text": [
        "(16, 8)\n",
        "(8, 24)\n"
       ]
      }
     ],
     "prompt_number": 11
    },
    {
     "cell_type": "markdown",
     "metadata": {},
     "source": [
      "### Broadcasting\n",
      "\n",
      "Recall, numpy does *broadcasting* of arrays of different shapes during\n",
      "arithmetic operations. What this means in general is that the smaller \n",
      "array (or scalar) is *broadcasted* across the larger array so that they have\n",
      "compatible shapes. The example below shows an instance of\n",
      "broadcasting:"
     ]
    },
    {
     "cell_type": "code",
     "collapsed": false,
     "input": [
      "a = numpy.asarray([1.0, 2.0, 3.0])\n",
      "b = 2.0\n",
      "print a * b"
     ],
     "language": "python",
     "metadata": {},
     "outputs": [
      {
       "output_type": "stream",
       "stream": "stdout",
       "text": [
        "[ 2.  4.  6.]\n"
       ]
      }
     ],
     "prompt_number": 12
    },
    {
     "cell_type": "markdown",
     "metadata": {},
     "source": [
      "The smaller array b (actually a scalar here, which works like a 0-d array) in this case is broadcasted to the same size as a during the multiplication. This trick is often useful in simplifying how expression are written. \n",
      "More detail about broadcasting\n",
      "can be found in our python intro notebook or the [numpy user guide](href=http://docs.scipy.org/doc/numpy/user/basics.broadcasting.html>)."
     ]
    },
    {
     "cell_type": "markdown",
     "metadata": {},
     "source": [
      "# Simple computation\n",
      "\n",
      "In this tutorial, we'll see how to do a simple calculation involving scalars and matrices.\n",
      "\n",
      "## Adding two scalars\n",
      "\n",
      "To get us started with Theano and get a feel of what we're working with, let's make a simple function: add two numbers together. Here is how you do it:"
     ]
    },
    {
     "cell_type": "code",
     "collapsed": false,
     "input": [
      "x = T.dscalar('x')\n",
      "y = T.dscalar('y')\n",
      "z = x + y\n",
      "f = function([x, y], z)"
     ],
     "language": "python",
     "metadata": {},
     "outputs": [],
     "prompt_number": 16
    },
    {
     "cell_type": "markdown",
     "metadata": {},
     "source": [
      "And now that we've created our function we can use it:"
     ]
    },
    {
     "cell_type": "code",
     "collapsed": false,
     "input": [
      "print f(2, 3)\n",
      "print f(16.3, 12.1)"
     ],
     "language": "python",
     "metadata": {},
     "outputs": [
      {
       "output_type": "stream",
       "stream": "stdout",
       "text": [
        "5.0\n",
        "28.4\n"
       ]
      }
     ],
     "prompt_number": 17
    },
    {
     "cell_type": "markdown",
     "metadata": {},
     "source": [
      "Let's break this down into several steps. The first step is to define\n",
      "two symbols (*Variables*) representing the quantities that you want\n",
      "to add. Note that from now on, we will use the term \n",
      "*Variable* to mean \"symbol\" (in other words, \n",
      "*x*, *y*, *z* are all *Variable* objects). The output of the function \n",
      "*f* is a ``numpy.ndarray`` with zero dimensions.\n",
      "\n",
      "If you are following along and typing into an interpreter, you may have\n",
      "noticed that there was a slight delay in executing the ``function``\n",
      "instruction. Behind the scene, *f* was being compiled into C code.\n",
      "\n",
      "### A note on symbolic variables\n",
      "\n",
      "A *Variable* is the main data structure you work with when\n",
      "using Theano. The symbolic inputs that you operate on are\n",
      "*variables* and what you get from applying various operations to\n",
      "these inputs are also *Variables*. For example, when I type\n",
      "\"`x = theano.tensor.ivector(); y = -x`\" then *x* and *y* are both Variables, i.e. instances of the\n",
      "``theano.gof.graph.Variable`` class. The\n",
      "type of both *x* and *y* is ``theano.tensor.ivector``.\n",
      "\n",
      "### Theano step 1 - declaring variables\n",
      "\n",
      "In Theano, all symbols must be typed. In particular, T.dscalar is the type we assign to \"0-dimensional arrays (scalar) of doubles (d)\". It is a Theano [type](http://deeplearning.net/software/theano/library/tensor/basic.html#tensor.TensorType)."
     ]
    },
    {
     "cell_type": "code",
     "collapsed": false,
     "input": [
      "x = T.dscalar('x')\n",
      "y = T.dscalar('y')"
     ],
     "language": "python",
     "metadata": {},
     "outputs": [],
     "prompt_number": 18
    },
    {
     "cell_type": "markdown",
     "metadata": {},
     "source": [
      "``dscalar`` is not a class. Therefore, neither *x* nor *y*\n",
      "are actually instances of ``dscalar``. They are instances of\n",
      "[TensorVariable](http://deeplearning.net/software/theano/library/tensor/basic.html#tensor.TensorVariable). *x* and *y*\n",
      "are, however, assigned the theano Type ``dscalar`` in their ``type``\n",
      "field, as you can see here:"
     ]
    },
    {
     "cell_type": "code",
     "collapsed": false,
     "input": [
      "print type(x)\n",
      "print x.type\n",
      "print T.dscalar\n",
      "print x.type is T.dscalar"
     ],
     "language": "python",
     "metadata": {},
     "outputs": [
      {
       "output_type": "stream",
       "stream": "stdout",
       "text": [
        "<class 'theano.tensor.var.TensorVariable'>\n",
        "TensorType(float64, scalar)\n",
        "TensorType(float64, scalar)\n",
        "True\n"
       ]
      }
     ],
     "prompt_number": 20
    },
    {
     "cell_type": "markdown",
     "metadata": {},
     "source": [
      "By calling ``T.dscalar`` with a string argument, you create a\n",
      "*Variable* representing a floating-point scalar quantity with the\n",
      "given name. If you provide no argument, the symbol will be unnamed. Names\n",
      "are not required, but they can help debugging.\n",
      "\n",
      "More will be said in a moment regarding Theano's inner structure. You\n",
      "could also learn more by looking into [Graph Structures](http://deeplearning.net/software/theano/extending/graphstructures.html).\n",
      "\n",
      "### Theano step 2 - symbolic expressions\n",
      "The second step is to combine *x* and *y* into their sum *z*:\n"
     ]
    },
    {
     "cell_type": "code",
     "collapsed": false,
     "input": [
      "z = x + y"
     ],
     "language": "python",
     "metadata": {},
     "outputs": [],
     "prompt_number": 21
    },
    {
     "cell_type": "markdown",
     "metadata": {},
     "source": [
      "*z* is yet another *Variable* which represents the addition of\n",
      "*x* and *y*. You can use the [pp](http://deeplearning.net/software/theano/library/printing.html#printing.theano.pp)\n",
      "function to pretty-print out the computation associated to *z*.\n"
     ]
    },
    {
     "cell_type": "code",
     "collapsed": false,
     "input": [
      "from theano.printing import pp\n",
      "print pp(z)   # -- prints (x + y)"
     ],
     "language": "python",
     "metadata": {},
     "outputs": [
      {
       "output_type": "stream",
       "stream": "stdout",
       "text": [
        "(x + y)\n"
       ]
      }
     ],
     "prompt_number": 22
    },
    {
     "cell_type": "markdown",
     "metadata": {},
     "source": [
      "### Theano step 3 - compiling a function\n",
      "\n",
      "The last step is to create a function taking *x* and *y* as inputs\n",
      "and giving *z* as output:"
     ]
    },
    {
     "cell_type": "code",
     "collapsed": false,
     "input": [
      "f = function([x, y], z)"
     ],
     "language": "python",
     "metadata": {},
     "outputs": [],
     "prompt_number": 26
    },
    {
     "cell_type": "markdown",
     "metadata": {},
     "source": [
      "The first argument to `function()` is a list of Variables\n",
      "that will be provided as inputs to the function. The second argument\n",
      "is a single Variable *or* a list of Variables. For either case, the second\n",
      "argument is what we want to see as output when we apply the function. *f* may\n",
      "then be used like a normal Python function.\n",
      "\n",
      "### Note on `eval`\n",
      "\n",
      "As a shortcut, you can skip step 3, and just use a variable's\n",
      "`eval()` method. The `eval()` method is not as flexible\n",
      "as `function()` but it can do everything we've covered in\n",
      "the tutorial so far. It has the added benefit of not requiring\n",
      "you to import `function()`. Here is how `eval()` works:"
     ]
    },
    {
     "cell_type": "code",
     "collapsed": false,
     "input": [
      "x = T.dscalar('x')\n",
      "y = T.dscalar('y')\n",
      "z = x + y\n",
      "z.eval({x : 16.3, y : 12.1})"
     ],
     "language": "python",
     "metadata": {},
     "outputs": [
      {
       "metadata": {},
       "output_type": "pyout",
       "prompt_number": 28,
       "text": [
        "array(28.4)"
       ]
      }
     ],
     "prompt_number": 28
    },
    {
     "cell_type": "markdown",
     "metadata": {},
     "source": [
      "We passed `eval` a dictionary mapping symbolic theano\n",
      "variables to the values to substitute for them, and it returned\n",
      "the numerical value of the expression. `eval()` will be slower the first time you call it on a variable --\n",
      "it needs to call `function()` to compile the expression behind\n",
      "the scenes. Subsequent calls to `eval()` on that same variable\n",
      "will be fast, because the variable caches the compiled function.\n",
      "\n",
      "## Adding Two Matrices\n",
      "\n",
      "You might already have guessed how to do this. Indeed, the only change\n",
      "from the previous example is that you need to instantiate *x* and\n",
      "*y* using the matrix types:"
     ]
    },
    {
     "cell_type": "code",
     "collapsed": false,
     "input": [
      "x = T.dmatrix('x')\n",
      "y = T.dmatrix('y')\n",
      "z = x + y\n",
      "f = function([x, y], z)"
     ],
     "language": "python",
     "metadata": {},
     "outputs": [],
     "prompt_number": 29
    },
    {
     "cell_type": "markdown",
     "metadata": {},
     "source": [
      "``dmatrix`` is the Type for matrices of doubles. Then we can use\n",
      "our new function on 2D arrays:"
     ]
    },
    {
     "cell_type": "code",
     "collapsed": false,
     "input": [
      "f([[1, 2], [3, 4]], [[10, 20], [30, 40]])"
     ],
     "language": "python",
     "metadata": {},
     "outputs": [
      {
       "metadata": {},
       "output_type": "pyout",
       "prompt_number": 30,
       "text": [
        "array([[ 11.,  22.],\n",
        "       [ 33.,  44.]])"
       ]
      }
     ],
     "prompt_number": 30
    },
    {
     "cell_type": "markdown",
     "metadata": {},
     "source": [
      "The variable is a NumPy array. We can also use NumPy arrays directly as\n",
      "inputs:"
     ]
    },
    {
     "cell_type": "code",
     "collapsed": false,
     "input": [
      "import numpy as np\n",
      "f(np.array([[1, 2], [3, 4]]), np.array([[10, 20], [30, 40]]))"
     ],
     "language": "python",
     "metadata": {},
     "outputs": [
      {
       "metadata": {},
       "output_type": "pyout",
       "prompt_number": 32,
       "text": [
        "array([[ 11.,  22.],\n",
        "       [ 33.,  44.]])"
       ]
      }
     ],
     "prompt_number": 32
    },
    {
     "cell_type": "markdown",
     "metadata": {},
     "source": [
      "It is possible to add scalars to matrices, vectors to matrices,\n",
      "scalars to vectors, etc. The behavior of these operations is defined by Theano's broadcasting behavior: \n",
      "[broadcasting in NumPy and Theano](http://deeplearning.net/software/theano/library/tensor/basic.html#libdoc-tensor-broadcastable).\n",
      "\n",
      "The following types are available:\n",
      "\n",
      "* **byte**: ``bscalar, bvector, bmatrix, brow, bcol, btensor3, btensor4``\n",
      "* **16-bit integers**: ``wscalar, wvector, wmatrix, wrow, wcol, wtensor3, wtensor4``\n",
      "* **32-bit integers**: ``iscalar, ivector, imatrix, irow, icol, itensor3, itensor4``\n",
      "* **64-bit integers**: ``lscalar, lvector, lmatrix, lrow, lcol, ltensor3, ltensor4``\n",
      "* **float**: ``fscalar, fvector, fmatrix, frow, fcol, ftensor3, ftensor4``\n",
      "* **double**: ``dscalar, dvector, dmatrix, drow, dcol, dtensor3, dtensor4``\n",
      "* **complex**: ``cscalar, cvector, cmatrix, crow, ccol, ctensor3, ctensor4``\n",
      "\n",
      "The previous list is not exhaustive and a guide to all types compatible\n",
      "with NumPy arrays may be found here:\n",
      "[tensor creation](http://deeplearning.net/software/theano/library/tensor/basic.html#creation).\n",
      "\n",
      "\n",
      "Note that you, the user---not the system architecture---have to choose whether your\n",
      "   program will use 32- or 64-bit integers (``i`` prefix vs. the ``l`` prefix)\n",
      "   and floats (``f`` prefix vs. the ``d`` prefix).\n"
     ]
    },
    {
     "cell_type": "markdown",
     "metadata": {},
     "source": [
      "## More elementwise computations (logistic function)\n",
      "\n",
      "Here is another straightforward example, though a bit more elaborate\n",
      "than adding two numbers together. Let's say that you want to compute\n",
      "the logistic curve, which is given by:\n",
      "\n",
      "$s(x) = \\frac{1}{1 + e^{-x})}$\n",
      "\n",
      "It's also called a *sigmoid* curve because it looks \"S\"-shaped. If you plot it, you'll see why:"
     ]
    },
    {
     "cell_type": "code",
     "collapsed": false,
     "input": [
      "x = np.arange(-5, 5, .1)\n",
      "title('logistic sigmoid')\n",
      "line = plot(x, 1 / (1 + np.exp(-x)))"
     ],
     "language": "python",
     "metadata": {},
     "outputs": [
      {
       "metadata": {},
       "output_type": "display_data",
       "png": "[encoded data removed]",
       "text": [
        "<matplotlib.figure.Figure at 0x10bd80090>"
       ]
      }
     ],
     "prompt_number": 35
    },
    {
     "cell_type": "markdown",
     "metadata": {},
     "source": [
      "NumPy and Theano both evaluate scalar functions like this *element-wise* when operating on tensor quantities such as vectors and matrices.\n",
      "So if you want to compute the logistic sigmoid of each number in x, then you do it by applying all of the required operations -- division, addition, exponentiation, and division -- on entire tensors at once."
     ]
    },
    {
     "cell_type": "code",
     "collapsed": false,
     "input": [
      "x = T.dmatrix('x')\n",
      "s = 1 / (1 + T.exp(-x))\n",
      "logistic = function([x], s)\n",
      "print logistic([[0, 1], [-1, -2]])"
     ],
     "language": "python",
     "metadata": {},
     "outputs": [
      {
       "output_type": "stream",
       "stream": "stdout",
       "text": [
        "[[ 0.5         0.73105858]\n",
        " [ 0.26894142  0.11920292]]\n"
       ]
      }
     ],
     "prompt_number": 36
    },
    {
     "cell_type": "markdown",
     "metadata": {},
     "source": [
      "At this point we suggest that you begin familiarizing yourself \n",
      "more systematically with Theano's fundamental objects and operations by browsing [Theano basic tensor functionality](http://deeplearning.net/software/theano/library/tensor/basic.html).\n",
      " \n",
      "As the tutorial unfolds, you should also gradually acquaint yourself with the other\n",
      "relevant areas of the library and with the relevant subjects of the documentation\n",
      "entrance page."
     ]
    },
    {
     "cell_type": "markdown",
     "metadata": {},
     "source": [
      "### Exercise\n",
      "\n",
      "Modify and execute the following code to compute the expression: $a^2 + b^2 + 2 a b$."
     ]
    },
    {
     "cell_type": "code",
     "collapsed": false,
     "input": [
      "a = theano.tensor.vector()      # declare variable\n",
      "out = a + a ** 10               # build symbolic expression\n",
      "f = function([a], out)   # compile function\n",
      "print f([0, 1, 2])              # prints `array([0, 2, 1026])`"
     ],
     "language": "python",
     "metadata": {},
     "outputs": [
      {
       "output_type": "stream",
       "stream": "stdout",
       "text": [
        "[    0.     2.  1026.]\n"
       ]
      }
     ],
     "prompt_number": 38
    }
   ],
   "metadata": {}
  }
 ]
}