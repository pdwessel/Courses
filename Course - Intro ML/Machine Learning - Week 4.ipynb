{
 "cells": [
  {
   "cell_type": "markdown",
   "metadata": {},
   "source": [
    "#### Forecasting"
   ]
  },
  {
   "cell_type": "markdown",
   "metadata": {},
   "source": [
    "#install.packages('quantmod')\n",
    "\n",
    "library(quandmod)\n",
    "\n",
    "from.dat <- as.Date(\"01/01/08\", format=\"%m/%d/%y\")\n",
    "\n",
    "to.dat <- as.Date(\"12/31/13\", format=\"%m/%d/%y\")\n",
    "\n",
    "getSymbols(\"GOOG\", src=\"google\", from = from.dat, to = to.dat)\n",
    "\n",
    "head(GOOG)"
   ]
  },
  {
   "cell_type": "markdown",
   "metadata": {},
   "source": [
    "mGoog <- to.monthly(GOOG)\n",
    "\n",
    "googOpen <- Op(mGoog)\n",
    "\n",
    "ts1 <- ts(googOpen, frequency = 12)\n",
    "\n",
    "plot(ts1, xlab=\"Years+1\", ylab=\"GOOG\")"
   ]
  },
  {
   "cell_type": "code",
   "execution_count": null,
   "metadata": {
    "collapsed": true
   },
   "outputs": [],
   "source": []
  }
 ],
 "metadata": {
  "anaconda-cloud": {},
  "kernelspec": {
   "display_name": "R",
   "language": "R",
   "name": "ir"
  },
  "language_info": {
   "codemirror_mode": "r",
   "file_extension": ".r",
   "mimetype": "text/x-r-source",
   "name": "R",
   "pygments_lexer": "r",
   "version": "3.3.1"
  }
 },
 "nbformat": 4,
 "nbformat_minor": 1
}
