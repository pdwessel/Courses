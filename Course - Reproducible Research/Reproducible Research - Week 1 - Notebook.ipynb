{
 "cells": [
  {
   "cell_type": "code",
   "execution_count": 11,
   "metadata": {
    "collapsed": true
   },
   "outputs": [],
   "source": [
    "#Setup some notebook plot parameters\n",
    "library(repr)\n",
    "options(repr.plot.width = 4, repr.plot.height = 4, repr.plot.pointsize = 8)"
   ]
  },
  {
   "cell_type": "markdown",
   "metadata": {},
   "source": [
    "## Lesson 1"
   ]
  },
  {
   "cell_type": "markdown",
   "metadata": {
    "collapsed": true
   },
   "source": [
    "Why do we need reproducable research?\n",
    "\n",
    "* New technologies increasing data collection throughput; data are more complex and extremely high dimesional\n",
    "* Existing databases can be merged into new \"megadatabases\"\n",
    "* Computing power is greatly increased, allowing more sophisticated analyses\n",
    "* For every field \"X\" ther is a field \"Computational X\""
   ]
  },
  {
   "cell_type": "markdown",
   "metadata": {},
   "source": [
    "**Golden Rule of Reproducibility: Script everything!**"
   ]
  },
  {
   "cell_type": "markdown",
   "metadata": {},
   "source": [
    "#### Structure of a Data Analysis\n",
    "\n",
    "Steps of a Data Analysis\n",
    "\n",
    "* Define the question\n",
    "* Define the ideal data set\n",
    "* Determine what data you can access\n",
    "* Obtain the data\n",
    "* Clean the data\n",
    "* Exploratory data analysis\n",
    "* Statistical prediction/modeling\n",
    "* Interpret results\n",
    "* Challenge results\n",
    "* Synthesize/write up results\n",
    "* Create reproducible code"
   ]
  },
  {
   "cell_type": "markdown",
   "metadata": {},
   "source": [
    "##### Defining a Question\n",
    "\n",
    "* Most powerful dimension reduction tool for an analysis"
   ]
  },
  {
   "cell_type": "markdown",
   "metadata": {},
   "source": [
    "##### Define the ideal data set\n",
    "\n",
    "* the data set may depend on your goal\n",
    "    - Descriptive - a whole population\n",
    "    - Exploratory - a random sample with many variables measured\n",
    "    - Inferential - the right population, randomly sampled\n",
    "    - Predictive - a training and test data set from the same population\n",
    "    - Causal - data from a randomized study\n",
    "    - Mechanistic - data about all components of the system"
   ]
  },
  {
   "cell_type": "markdown",
   "metadata": {},
   "source": [
    "##### Determine what data you can access\n",
    "\n",
    "* Sometimes you can find data on the web\n",
    "* Other times you may need to buy the data\n",
    "* Be sure to respect terms of use\n",
    "* If the data don't exist, you need to generate it yourself"
   ]
  },
  {
   "cell_type": "markdown",
   "metadata": {},
   "source": [
    "##### Obtain the data\n",
    "\n",
    "* Try to obtain the raw data\n",
    "* Be sure to reference the source\n",
    "* If you get the data from an internet source, record the url and time accessed"
   ]
  },
  {
   "cell_type": "markdown",
   "metadata": {},
   "source": [
    "##### Clean the data\n",
    "\n",
    "* Raw data often needs to be processed\n",
    "* If it is alread pre-processed, make sure you understand how\n",
    "* Understand the source of the data (census, sample, convenience sample)\n",
    "* Determine if the data is good enough to solve your problem"
   ]
  },
  {
   "cell_type": "code",
   "execution_count": 1,
   "metadata": {
    "collapsed": false
   },
   "outputs": [
    {
     "name": "stderr",
     "output_type": "stream",
     "text": [
      "Warning message:\n",
      "\"package 'kernlab' was built under R version 3.3.2\""
     ]
    },
    {
     "name": "stdout",
     "output_type": "stream",
     "text": [
      "'data.frame':\t4601 obs. of  5 variables:\n",
      " $ make   : num  0 0.21 0.06 0 0 0 0 0 0.15 0.06 ...\n",
      " $ address: num  0.64 0.28 0 0 0 0 0 0 0 0.12 ...\n",
      " $ all    : num  0.64 0.5 0.71 0 0 0 0 0 0.46 0.77 ...\n",
      " $ num3d  : num  0 0 0 0 0 0 0 0 0 0 ...\n",
      " $ our    : num  0.32 0.14 1.23 0.63 0.63 1.85 1.92 1.88 0.61 0.19 ...\n"
     ]
    }
   ],
   "source": [
    "library(kernlab)\n",
    "data(spam)\n",
    "str(spam[,1:5])"
   ]
  },
  {
   "cell_type": "code",
   "execution_count": 3,
   "metadata": {
    "collapsed": false
   },
   "outputs": [
    {
     "data": {
      "text/plain": [
       "trainIndicator\n",
       "   0    1 \n",
       "2314 2287 "
      ]
     },
     "metadata": {},
     "output_type": "display_data"
    }
   ],
   "source": [
    "#Split the data into a training and test set\n",
    "set.seed(3435)\n",
    "trainIndicator = rbinom(4601, size = 1, prob = 0.5)\n",
    "table(trainIndicator)"
   ]
  },
  {
   "cell_type": "code",
   "execution_count": 18,
   "metadata": {
    "collapsed": true
   },
   "outputs": [],
   "source": [
    "trainSpam = spam[trainIndicator == 1,]\n",
    "testSpam = spam[trainIndicator == 0,]"
   ]
  },
  {
   "cell_type": "markdown",
   "metadata": {},
   "source": [
    "##### Exporatory Analysis\n",
    "\n",
    "* Look at the summaries of data\n",
    "* check for missing data\n",
    "* create exploratory plots"
   ]
  },
  {
   "cell_type": "code",
   "execution_count": 5,
   "metadata": {
    "collapsed": false
   },
   "outputs": [
    {
     "data": {
      "text/html": [
       "<ol class=list-inline>\n",
       "\t<li>\"make\"</li>\n",
       "\t<li>\"address\"</li>\n",
       "\t<li>\"all\"</li>\n",
       "\t<li>\"num3d\"</li>\n",
       "\t<li>\"our\"</li>\n",
       "\t<li>\"over\"</li>\n",
       "\t<li>\"remove\"</li>\n",
       "\t<li>\"internet\"</li>\n",
       "\t<li>\"order\"</li>\n",
       "\t<li>\"mail\"</li>\n",
       "\t<li>\"receive\"</li>\n",
       "\t<li>\"will\"</li>\n",
       "\t<li>\"people\"</li>\n",
       "\t<li>\"report\"</li>\n",
       "\t<li>\"addresses\"</li>\n",
       "\t<li>\"free\"</li>\n",
       "\t<li>\"business\"</li>\n",
       "\t<li>\"email\"</li>\n",
       "\t<li>\"you\"</li>\n",
       "\t<li>\"credit\"</li>\n",
       "\t<li>\"your\"</li>\n",
       "\t<li>\"font\"</li>\n",
       "\t<li>\"num000\"</li>\n",
       "\t<li>\"money\"</li>\n",
       "\t<li>\"hp\"</li>\n",
       "\t<li>\"hpl\"</li>\n",
       "\t<li>\"george\"</li>\n",
       "\t<li>\"num650\"</li>\n",
       "\t<li>\"lab\"</li>\n",
       "\t<li>\"labs\"</li>\n",
       "\t<li>\"telnet\"</li>\n",
       "\t<li>\"num857\"</li>\n",
       "\t<li>\"data\"</li>\n",
       "\t<li>\"num415\"</li>\n",
       "\t<li>\"num85\"</li>\n",
       "\t<li>\"technology\"</li>\n",
       "\t<li>\"num1999\"</li>\n",
       "\t<li>\"parts\"</li>\n",
       "\t<li>\"pm\"</li>\n",
       "\t<li>\"direct\"</li>\n",
       "\t<li>\"cs\"</li>\n",
       "\t<li>\"meeting\"</li>\n",
       "\t<li>\"original\"</li>\n",
       "\t<li>\"project\"</li>\n",
       "\t<li>\"re\"</li>\n",
       "\t<li>\"edu\"</li>\n",
       "\t<li>\"table\"</li>\n",
       "\t<li>\"conference\"</li>\n",
       "\t<li>\"charSemicolon\"</li>\n",
       "\t<li>\"charRoundbracket\"</li>\n",
       "\t<li>\"charSquarebracket\"</li>\n",
       "\t<li>\"charExclamation\"</li>\n",
       "\t<li>\"charDollar\"</li>\n",
       "\t<li>\"charHash\"</li>\n",
       "\t<li>\"capitalAve\"</li>\n",
       "\t<li>\"capitalLong\"</li>\n",
       "\t<li>\"capitalTotal\"</li>\n",
       "\t<li>\"type\"</li>\n",
       "</ol>\n"
      ],
      "text/latex": [
       "\\begin{enumerate*}\n",
       "\\item \"make\"\n",
       "\\item \"address\"\n",
       "\\item \"all\"\n",
       "\\item \"num3d\"\n",
       "\\item \"our\"\n",
       "\\item \"over\"\n",
       "\\item \"remove\"\n",
       "\\item \"internet\"\n",
       "\\item \"order\"\n",
       "\\item \"mail\"\n",
       "\\item \"receive\"\n",
       "\\item \"will\"\n",
       "\\item \"people\"\n",
       "\\item \"report\"\n",
       "\\item \"addresses\"\n",
       "\\item \"free\"\n",
       "\\item \"business\"\n",
       "\\item \"email\"\n",
       "\\item \"you\"\n",
       "\\item \"credit\"\n",
       "\\item \"your\"\n",
       "\\item \"font\"\n",
       "\\item \"num000\"\n",
       "\\item \"money\"\n",
       "\\item \"hp\"\n",
       "\\item \"hpl\"\n",
       "\\item \"george\"\n",
       "\\item \"num650\"\n",
       "\\item \"lab\"\n",
       "\\item \"labs\"\n",
       "\\item \"telnet\"\n",
       "\\item \"num857\"\n",
       "\\item \"data\"\n",
       "\\item \"num415\"\n",
       "\\item \"num85\"\n",
       "\\item \"technology\"\n",
       "\\item \"num1999\"\n",
       "\\item \"parts\"\n",
       "\\item \"pm\"\n",
       "\\item \"direct\"\n",
       "\\item \"cs\"\n",
       "\\item \"meeting\"\n",
       "\\item \"original\"\n",
       "\\item \"project\"\n",
       "\\item \"re\"\n",
       "\\item \"edu\"\n",
       "\\item \"table\"\n",
       "\\item \"conference\"\n",
       "\\item \"charSemicolon\"\n",
       "\\item \"charRoundbracket\"\n",
       "\\item \"charSquarebracket\"\n",
       "\\item \"charExclamation\"\n",
       "\\item \"charDollar\"\n",
       "\\item \"charHash\"\n",
       "\\item \"capitalAve\"\n",
       "\\item \"capitalLong\"\n",
       "\\item \"capitalTotal\"\n",
       "\\item \"type\"\n",
       "\\end{enumerate*}\n"
      ],
      "text/markdown": [
       "1. \"make\"\n",
       "2. \"address\"\n",
       "3. \"all\"\n",
       "4. \"num3d\"\n",
       "5. \"our\"\n",
       "6. \"over\"\n",
       "7. \"remove\"\n",
       "8. \"internet\"\n",
       "9. \"order\"\n",
       "10. \"mail\"\n",
       "11. \"receive\"\n",
       "12. \"will\"\n",
       "13. \"people\"\n",
       "14. \"report\"\n",
       "15. \"addresses\"\n",
       "16. \"free\"\n",
       "17. \"business\"\n",
       "18. \"email\"\n",
       "19. \"you\"\n",
       "20. \"credit\"\n",
       "21. \"your\"\n",
       "22. \"font\"\n",
       "23. \"num000\"\n",
       "24. \"money\"\n",
       "25. \"hp\"\n",
       "26. \"hpl\"\n",
       "27. \"george\"\n",
       "28. \"num650\"\n",
       "29. \"lab\"\n",
       "30. \"labs\"\n",
       "31. \"telnet\"\n",
       "32. \"num857\"\n",
       "33. \"data\"\n",
       "34. \"num415\"\n",
       "35. \"num85\"\n",
       "36. \"technology\"\n",
       "37. \"num1999\"\n",
       "38. \"parts\"\n",
       "39. \"pm\"\n",
       "40. \"direct\"\n",
       "41. \"cs\"\n",
       "42. \"meeting\"\n",
       "43. \"original\"\n",
       "44. \"project\"\n",
       "45. \"re\"\n",
       "46. \"edu\"\n",
       "47. \"table\"\n",
       "48. \"conference\"\n",
       "49. \"charSemicolon\"\n",
       "50. \"charRoundbracket\"\n",
       "51. \"charSquarebracket\"\n",
       "52. \"charExclamation\"\n",
       "53. \"charDollar\"\n",
       "54. \"charHash\"\n",
       "55. \"capitalAve\"\n",
       "56. \"capitalLong\"\n",
       "57. \"capitalTotal\"\n",
       "58. \"type\"\n",
       "\n",
       "\n"
      ],
      "text/plain": [
       " [1] \"make\"              \"address\"           \"all\"              \n",
       " [4] \"num3d\"             \"our\"               \"over\"             \n",
       " [7] \"remove\"            \"internet\"          \"order\"            \n",
       "[10] \"mail\"              \"receive\"           \"will\"             \n",
       "[13] \"people\"            \"report\"            \"addresses\"        \n",
       "[16] \"free\"              \"business\"          \"email\"            \n",
       "[19] \"you\"               \"credit\"            \"your\"             \n",
       "[22] \"font\"              \"num000\"            \"money\"            \n",
       "[25] \"hp\"                \"hpl\"               \"george\"           \n",
       "[28] \"num650\"            \"lab\"               \"labs\"             \n",
       "[31] \"telnet\"            \"num857\"            \"data\"             \n",
       "[34] \"num415\"            \"num85\"             \"technology\"       \n",
       "[37] \"num1999\"           \"parts\"             \"pm\"               \n",
       "[40] \"direct\"            \"cs\"                \"meeting\"          \n",
       "[43] \"original\"          \"project\"           \"re\"               \n",
       "[46] \"edu\"               \"table\"             \"conference\"       \n",
       "[49] \"charSemicolon\"     \"charRoundbracket\"  \"charSquarebracket\"\n",
       "[52] \"charExclamation\"   \"charDollar\"        \"charHash\"         \n",
       "[55] \"capitalAve\"        \"capitalLong\"       \"capitalTotal\"     \n",
       "[58] \"type\"             "
      ]
     },
     "metadata": {},
     "output_type": "display_data"
    }
   ],
   "source": [
    "names(trainSpam)"
   ]
  },
  {
   "cell_type": "code",
   "execution_count": 6,
   "metadata": {
    "collapsed": false
   },
   "outputs": [
    {
     "data": {
      "text/html": [
       "<table>\n",
       "<thead><tr><th></th><th scope=col>make</th><th scope=col>address</th><th scope=col>all</th><th scope=col>num3d</th><th scope=col>our</th><th scope=col>over</th><th scope=col>remove</th><th scope=col>internet</th><th scope=col>order</th><th scope=col>mail</th><th scope=col>...</th><th scope=col>charSemicolon</th><th scope=col>charRoundbracket</th><th scope=col>charSquarebracket</th><th scope=col>charExclamation</th><th scope=col>charDollar</th><th scope=col>charHash</th><th scope=col>capitalAve</th><th scope=col>capitalLong</th><th scope=col>capitalTotal</th><th scope=col>type</th></tr></thead>\n",
       "<tbody>\n",
       "\t<tr><th scope=row>1</th><td>0    </td><td>0.64 </td><td>0.64 </td><td>0    </td><td>0.32 </td><td>0    </td><td>0    </td><td>0    </td><td>0    </td><td>0    </td><td>...  </td><td>0    </td><td>0    </td><td>0    </td><td>0.778</td><td>0    </td><td>0    </td><td>3.756</td><td>61   </td><td>278  </td><td>spam </td></tr>\n",
       "\t<tr><th scope=row>7</th><td>0    </td><td>0    </td><td>0    </td><td>0    </td><td>1.92 </td><td>0    </td><td>0    </td><td>0    </td><td>0    </td><td>0.64 </td><td>...  </td><td>0    </td><td>0.054</td><td>0    </td><td>0.164</td><td>0.054</td><td>0    </td><td>1.671</td><td>4    </td><td>112  </td><td>spam </td></tr>\n",
       "\t<tr><th scope=row>9</th><td>0.15 </td><td>0    </td><td>0.46 </td><td>0    </td><td>0.61 </td><td>0    </td><td>0.3  </td><td>0    </td><td>0.92 </td><td>0.76 </td><td>...  </td><td>0    </td><td>0.271</td><td>0    </td><td>0.181</td><td>0.203</td><td>0.022</td><td>9.744</td><td>445  </td><td>1257 </td><td>spam </td></tr>\n",
       "\t<tr><th scope=row>12</th><td>0    </td><td>0    </td><td>0.25 </td><td>0    </td><td>0.38 </td><td>0.25 </td><td>0.25 </td><td>0    </td><td>0    </td><td>0    </td><td>...  </td><td>0.022</td><td>0.044</td><td>0    </td><td>0.663</td><td>0    </td><td>0    </td><td>1.243</td><td>11   </td><td>184  </td><td>spam </td></tr>\n",
       "\t<tr><th scope=row>14</th><td>0    </td><td>0    </td><td>0    </td><td>0    </td><td>0.9  </td><td>0    </td><td>0.9  </td><td>0    </td><td>0    </td><td>0.9  </td><td>...  </td><td>0    </td><td>0    </td><td>0    </td><td>0    </td><td>0    </td><td>0    </td><td>2.083</td><td>7    </td><td>25   </td><td>spam </td></tr>\n",
       "\t<tr><th scope=row>16</th><td>0    </td><td>0.42 </td><td>0.42 </td><td>0    </td><td>1.27 </td><td>0    </td><td>0.42 </td><td>0    </td><td>0    </td><td>1.27 </td><td>...  </td><td>0    </td><td>0.063</td><td>0    </td><td>0.572</td><td>0.063</td><td>0    </td><td>5.659</td><td>55   </td><td>249  </td><td>spam </td></tr>\n",
       "</tbody>\n",
       "</table>\n"
      ],
      "text/latex": [
       "\\begin{tabular}{r|llllllllllllllllllllllllllllllllllllllllllllllllllllllllll}\n",
       "  & make & address & all & num3d & our & over & remove & internet & order & mail & ... & charSemicolon & charRoundbracket & charSquarebracket & charExclamation & charDollar & charHash & capitalAve & capitalLong & capitalTotal & type\\\\\n",
       "\\hline\n",
       "\t1 & 0     & 0.64  & 0.64  & 0     & 0.32  & 0     & 0     & 0     & 0     & 0     & ...   & 0     & 0     & 0     & 0.778 & 0     & 0     & 3.756 & 61    & 278   & spam \\\\\n",
       "\t7 & 0     & 0     & 0     & 0     & 1.92  & 0     & 0     & 0     & 0     & 0.64  & ...   & 0     & 0.054 & 0     & 0.164 & 0.054 & 0     & 1.671 & 4     & 112   & spam \\\\\n",
       "\t9 & 0.15  & 0     & 0.46  & 0     & 0.61  & 0     & 0.3   & 0     & 0.92  & 0.76  & ...   & 0     & 0.271 & 0     & 0.181 & 0.203 & 0.022 & 9.744 & 445   & 1257  & spam \\\\\n",
       "\t12 & 0     & 0     & 0.25  & 0     & 0.38  & 0.25  & 0.25  & 0     & 0     & 0     & ...   & 0.022 & 0.044 & 0     & 0.663 & 0     & 0     & 1.243 & 11    & 184   & spam \\\\\n",
       "\t14 & 0     & 0     & 0     & 0     & 0.9   & 0     & 0.9   & 0     & 0     & 0.9   & ...   & 0     & 0     & 0     & 0     & 0     & 0     & 2.083 & 7     & 25    & spam \\\\\n",
       "\t16 & 0     & 0.42  & 0.42  & 0     & 1.27  & 0     & 0.42  & 0     & 0     & 1.27  & ...   & 0     & 0.063 & 0     & 0.572 & 0.063 & 0     & 5.659 & 55    & 249   & spam \\\\\n",
       "\\end{tabular}\n"
      ],
      "text/plain": [
       "   make address  all num3d  our over remove internet order mail ...\n",
       "1  0.00    0.64 0.64     0 0.32 0.00   0.00        0  0.00 0.00 ...\n",
       "7  0.00    0.00 0.00     0 1.92 0.00   0.00        0  0.00 0.64 ...\n",
       "9  0.15    0.00 0.46     0 0.61 0.00   0.30        0  0.92 0.76 ...\n",
       "12 0.00    0.00 0.25     0 0.38 0.25   0.25        0  0.00 0.00 ...\n",
       "14 0.00    0.00 0.00     0 0.90 0.00   0.90        0  0.00 0.90 ...\n",
       "16 0.00    0.42 0.42     0 1.27 0.00   0.42        0  0.00 1.27 ...\n",
       "   charSemicolon charRoundbracket charSquarebracket charExclamation charDollar\n",
       "1          0.000            0.000                 0           0.778      0.000\n",
       "7          0.000            0.054                 0           0.164      0.054\n",
       "9          0.000            0.271                 0           0.181      0.203\n",
       "12         0.022            0.044                 0           0.663      0.000\n",
       "14         0.000            0.000                 0           0.000      0.000\n",
       "16         0.000            0.063                 0           0.572      0.063\n",
       "   charHash capitalAve capitalLong capitalTotal type\n",
       "1     0.000      3.756          61          278 spam\n",
       "7     0.000      1.671           4          112 spam\n",
       "9     0.022      9.744         445         1257 spam\n",
       "12    0.000      1.243          11          184 spam\n",
       "14    0.000      2.083           7           25 spam\n",
       "16    0.000      5.659          55          249 spam"
      ]
     },
     "metadata": {},
     "output_type": "display_data"
    }
   ],
   "source": [
    "head(trainSpam)"
   ]
  },
  {
   "cell_type": "code",
   "execution_count": 7,
   "metadata": {
    "collapsed": false
   },
   "outputs": [
    {
     "data": {
      "text/plain": [
       "\n",
       "nonspam    spam \n",
       "   1381     906 "
      ]
     },
     "metadata": {},
     "output_type": "display_data"
    }
   ],
   "source": [
    "table(trainSpam$type)"
   ]
  },
  {
   "cell_type": "code",
   "execution_count": 12,
   "metadata": {
    "collapsed": false
   },
   "outputs": [
    {
     "data": {
      "image/png": "[encoded data removed]",
      "text/plain": [
       "plot without title"
      ]
     },
     "metadata": {},
     "output_type": "display_data"
    }
   ],
   "source": [
    "plot(log10(trainSpam$capitalAve+1) ~trainSpam$type)"
   ]
  },
  {
   "cell_type": "code",
   "execution_count": 13,
   "metadata": {
    "collapsed": false
   },
   "outputs": [
    {
     "data": {
      "image/png": "[encoded data removed]",
      "text/plain": [
       "plot without title"
      ]
     },
     "metadata": {},
     "output_type": "display_data"
    }
   ],
   "source": [
    "plot(log10(trainSpam[ , 1:4] +1))"
   ]
  },
  {
   "cell_type": "markdown",
   "metadata": {},
   "source": [
    "##### Statistical prediction / modeling\n",
    "\n",
    "* Should be informed by the results of your exploratory analysis\n",
    "* Exact methods depends on the question of interest"
   ]
  },
  {
   "cell_type": "code",
   "execution_count": 20,
   "metadata": {
    "collapsed": false
   },
   "outputs": [
    {
     "name": "stderr",
     "output_type": "stream",
     "text": [
      "Warning message:\n",
      "\"glm.fit: fitted probabilities numerically 0 or 1 occurred\"Warning message:\n",
      "\"glm.fit: fitted probabilities numerically 0 or 1 occurred\"Warning message:\n",
      "\"glm.fit: fitted probabilities numerically 0 or 1 occurred\"Warning message:\n",
      "\"glm.fit: fitted probabilities numerically 0 or 1 occurred\"Warning message:\n",
      "\"glm.fit: fitted probabilities numerically 0 or 1 occurred\"Warning message:\n",
      "\"glm.fit: fitted probabilities numerically 0 or 1 occurred\"Warning message:\n",
      "\"glm.fit: fitted probabilities numerically 0 or 1 occurred\"Warning message:\n",
      "\"glm.fit: fitted probabilities numerically 0 or 1 occurred\"Warning message:\n",
      "\"glm.fit: fitted probabilities numerically 0 or 1 occurred\"Warning message:\n",
      "\"glm.fit: fitted probabilities numerically 0 or 1 occurred\"Warning message:\n",
      "\"glm.fit: fitted probabilities numerically 0 or 1 occurred\"Warning message:\n",
      "\"glm.fit: fitted probabilities numerically 0 or 1 occurred\"Warning message:\n",
      "\"glm.fit: fitted probabilities numerically 0 or 1 occurred\"Warning message:\n",
      "\"glm.fit: fitted probabilities numerically 0 or 1 occurred\"Warning message:\n",
      "\"glm.fit: fitted probabilities numerically 0 or 1 occurred\"Warning message:\n",
      "\"glm.fit: fitted probabilities numerically 0 or 1 occurred\"Warning message:\n",
      "\"glm.fit: fitted probabilities numerically 0 or 1 occurred\"Warning message:\n",
      "\"glm.fit: fitted probabilities numerically 0 or 1 occurred\"Warning message:\n",
      "\"glm.fit: fitted probabilities numerically 0 or 1 occurred\"Warning message:\n",
      "\"glm.fit: fitted probabilities numerically 0 or 1 occurred\"Warning message:\n",
      "\"glm.fit: fitted probabilities numerically 0 or 1 occurred\"Warning message:\n",
      "\"glm.fit: fitted probabilities numerically 0 or 1 occurred\"Warning message:\n",
      "\"glm.fit: fitted probabilities numerically 0 or 1 occurred\"Warning message:\n",
      "\"glm.fit: fitted probabilities numerically 0 or 1 occurred\"Warning message:\n",
      "\"glm.fit: fitted probabilities numerically 0 or 1 occurred\"Warning message:\n",
      "\"glm.fit: fitted probabilities numerically 0 or 1 occurred\"Warning message:\n",
      "\"glm.fit: fitted probabilities numerically 0 or 1 occurred\"Warning message:\n",
      "\"glm.fit: fitted probabilities numerically 0 or 1 occurred\"Warning message:\n",
      "\"glm.fit: fitted probabilities numerically 0 or 1 occurred\"Warning message:\n",
      "\"glm.fit: fitted probabilities numerically 0 or 1 occurred\"Warning message:\n",
      "\"glm.fit: fitted probabilities numerically 0 or 1 occurred\"Warning message:\n",
      "\"glm.fit: fitted probabilities numerically 0 or 1 occurred\"Warning message:\n",
      "\"glm.fit: fitted probabilities numerically 0 or 1 occurred\"Warning message:\n",
      "\"glm.fit: fitted probabilities numerically 0 or 1 occurred\"Warning message:\n",
      "\"glm.fit: fitted probabilities numerically 0 or 1 occurred\"Warning message:\n",
      "\"glm.fit: fitted probabilities numerically 0 or 1 occurred\"Warning message:\n",
      "\"glm.fit: fitted probabilities numerically 0 or 1 occurred\"Warning message:\n",
      "\"glm.fit: fitted probabilities numerically 0 or 1 occurred\"Warning message:\n",
      "\"glm.fit: fitted probabilities numerically 0 or 1 occurred\"Warning message:\n",
      "\"glm.fit: fitted probabilities numerically 0 or 1 occurred\"Warning message:\n",
      "\"glm.fit: fitted probabilities numerically 0 or 1 occurred\"Warning message:\n",
      "\"glm.fit: fitted probabilities numerically 0 or 1 occurred\"Warning message:\n",
      "\"glm.fit: fitted probabilities numerically 0 or 1 occurred\"Warning message:\n",
      "\"glm.fit: fitted probabilities numerically 0 or 1 occurred\"Warning message:\n",
      "\"glm.fit: fitted probabilities numerically 0 or 1 occurred\"Warning message:\n",
      "\"glm.fit: fitted probabilities numerically 0 or 1 occurred\"Warning message:\n",
      "\"glm.fit: fitted probabilities numerically 0 or 1 occurred\"Warning message:\n",
      "\"glm.fit: fitted probabilities numerically 0 or 1 occurred\"Warning message:\n",
      "\"glm.fit: fitted probabilities numerically 0 or 1 occurred\"Warning message:\n",
      "\"glm.fit: fitted probabilities numerically 0 or 1 occurred\"Warning message:\n",
      "\"glm.fit: fitted probabilities numerically 0 or 1 occurred\"Warning message:\n",
      "\"glm.fit: fitted probabilities numerically 0 or 1 occurred\"Warning message:\n",
      "\"glm.fit: fitted probabilities numerically 0 or 1 occurred\"Warning message:\n",
      "\"glm.fit: fitted probabilities numerically 0 or 1 occurred\"Warning message:\n",
      "\"glm.fit: fitted probabilities numerically 0 or 1 occurred\"Warning message:\n",
      "\"glm.fit: fitted probabilities numerically 0 or 1 occurred\"Warning message:\n",
      "\"glm.fit: fitted probabilities numerically 0 or 1 occurred\"Warning message:\n",
      "\"glm.fit: fitted probabilities numerically 0 or 1 occurred\"Warning message:\n",
      "\"glm.fit: fitted probabilities numerically 0 or 1 occurred\"Warning message:\n",
      "\"glm.fit: fitted probabilities numerically 0 or 1 occurred\""
     ]
    },
    {
     "data": {
      "text/html": [
       "\"charDollar\""
      ],
      "text/latex": [
       "\"charDollar\""
      ],
      "text/markdown": [
       "\"charDollar\""
      ],
      "text/plain": [
       "[1] \"charDollar\""
      ]
     },
     "metadata": {},
     "output_type": "display_data"
    }
   ],
   "source": [
    "trainSpam$numType = as.numeric(trainSpam$type) - 1\n",
    "costFunction = function(x,y) sum(x != (y >0.5))\n",
    "cvError = rep(NA, 55)\n",
    "library(boot)\n",
    "for (i in 1:55) {\n",
    "    lmFormula = reformulate(names(trainSpam)[i], response = \"numType\")\n",
    "    glmFit = glm(lmFormula, family = \"binomial\", data = trainSpam)\n",
    "    cvError[i] = cv.glm(trainSpam, glmFit, costFunction, 2)$delta[2]\n",
    "}    \n",
    "    \n",
    "names(trainSpam)[which.min(cvError)]"
   ]
  },
  {
   "cell_type": "code",
   "execution_count": 21,
   "metadata": {
    "collapsed": false
   },
   "outputs": [
    {
     "name": "stderr",
     "output_type": "stream",
     "text": [
      "Warning message:\n",
      "\"glm.fit: fitted probabilities numerically 0 or 1 occurred\""
     ]
    }
   ],
   "source": [
    "## Use the best model from the group\n",
    "predictionModel = glm(numType ~ charDollar, family = \"binomial\", data = trainSpam)\n",
    "\n",
    "## Get predictions on the test set\n",
    "predictionTest = predict(predictionModel, testSpam)\n",
    "predictedSpam = rep(\"nonspam\", dim(testSpam)[1])\n",
    "\n",
    "## Classify as 'spam' for those with prob > 0.5\n",
    "predictedSpam[predictionModel$fitted > 0.5] = \"spam\""
   ]
  },
  {
   "cell_type": "code",
   "execution_count": 22,
   "metadata": {
    "collapsed": false
   },
   "outputs": [
    {
     "data": {
      "text/plain": [
       "             \n",
       "predictedSpam nonspam spam\n",
       "      nonspam    1346  458\n",
       "      spam         61  449"
      ]
     },
     "metadata": {},
     "output_type": "display_data"
    }
   ],
   "source": [
    "## Classification table\n",
    "table(predictedSpam, testSpam$type)"
   ]
  },
  {
   "cell_type": "markdown",
   "metadata": {},
   "source": [
    "##### Interpret results\n",
    "\n",
    "* Use the appropriate language\n",
    "    - describes\n",
    "    - correlates with/ associated with\n",
    "    - leads to / causes\n",
    "    - predicts\n",
    "* Give an explination\n",
    "* interpret coefficients"
   ]
  },
  {
   "cell_type": "markdown",
   "metadata": {},
   "source": [
    "##### Challenge results\n",
    "\n",
    "* Challenge all steps\n",
    "    - Questino\n",
    "    - Data source\n",
    "    - Processing\n",
    "    - Analysis\n",
    "    - Conclusions\n",
    "* Challenge measures of uncertainty\n",
    "* Think of potential alternative analyses"
   ]
  },
  {
   "cell_type": "markdown",
   "metadata": {},
   "source": [
    "### Organizing a Data Analysis\n",
    "\n",
    "Data Analysis Files\n",
    "* Data\n",
    "* Figures\n",
    "* R Code\n",
    "* Text"
   ]
  },
  {
   "cell_type": "markdown",
   "metadata": {},
   "source": []
  }
 ],
 "metadata": {
  "anaconda-cloud": {},
  "kernelspec": {
   "display_name": "R",
   "language": "R",
   "name": "ir"
  },
  "language_info": {
   "codemirror_mode": "r",
   "file_extension": ".r",
   "mimetype": "text/x-r-source",
   "name": "R",
   "pygments_lexer": "r",
   "version": "3.3.1"
  }
 },
 "nbformat": 4,
 "nbformat_minor": 1
}
