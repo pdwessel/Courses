{
 "cells": [
  {
   "cell_type": "markdown",
   "metadata": {},
   "source": [
    "### Reproducible Research Checklist"
   ]
  },
  {
   "cell_type": "markdown",
   "metadata": {},
   "source": [
    "Don't: (Do things by hand)\n",
    "\n",
    "* Editing a spreadsheet by hand (remove outliers, QA / QC, Validating)\n",
    "* Editing tables or figures\n",
    "* Downloading data from a website (clicking links in a browser)\n",
    "* Moving data around your computer; splitting / reformatting data files\n",
    "* \"We're just going to do this once...\"\n",
    "\n",
    "**Things done by hand need to be precisely doucmented**\n",
    "\n",
    "Don't: (Point and Click)\n",
    "\n",
    "* Many data processing / statistical analysis packages have GUIs\n",
    "* GUIs are convenient / intuitive but the action you take with a GUI can be difficult for others to reproduce\n",
    "* Some GUIs produce a log or script\n",
    "* Ease of use can sometimes lead to non-reporducible analysis"
   ]
  },
  {
   "cell_type": "markdown",
   "metadata": {},
   "source": [
    "DO: (Teach a Computer)\n",
    "\n",
    "* If something needs to be done as part of your analysis / investigation, try to teach your computer to do it\n",
    "* In order to give your computer instructions, you need to write down exactly what you mean to do and how is should be done\n",
    "* Teaching a computer almost guarantees reproducibility\n",
    "\n",
    "DO: (Some version control)\n",
    "\n",
    "* Slow things down\n",
    "* Add changes in small chunks (not just one massive commit)\n",
    "* Track / tag snapshots; revert to old versions\n",
    "\n",
    "DO: (Keep track of your software environment)\n",
    "\n",
    "* Computer Architecture (CPU, GPU)\n",
    "* Operating System\n",
    "* Software toolchain: Compliers, interpreters, command shell , programming languages, database backends, data analysis software\n",
    "* Supporting software / infrastructure: Libraries, R Packages, dependencies\n",
    "* External dependencies: Web sites, data repos, remote databases, software reops\n",
    "* Version numbers: Ideally for everything"
   ]
  },
  {
   "cell_type": "code",
   "execution_count": 1,
   "metadata": {
    "collapsed": false
   },
   "outputs": [
    {
     "data": {
      "text/plain": [
       "R version 3.3.1 (2016-06-21)\n",
       "Platform: x86_64-w64-mingw32/x64 (64-bit)\n",
       "Running under: Windows 10 x64 (build 14393)\n",
       "\n",
       "locale:\n",
       "[1] LC_COLLATE=English_United States.1252 \n",
       "[2] LC_CTYPE=English_United States.1252   \n",
       "[3] LC_MONETARY=English_United States.1252\n",
       "[4] LC_NUMERIC=C                          \n",
       "[5] LC_TIME=English_United States.1252    \n",
       "\n",
       "attached base packages:\n",
       "[1] stats     graphics  grDevices utils     datasets  methods   base     \n",
       "\n",
       "loaded via a namespace (and not attached):\n",
       " [1] R6_2.1.2        magrittr_1.5    IRdisplay_0.4.3 pbdZMQ_0.2-3   \n",
       " [5] tools_3.3.1     memoise_1.0.0   crayon_1.3.1    uuid_0.1-2     \n",
       " [9] stringi_1.1.1   IRkernel_0.7    jsonlite_0.9.22 stringr_1.0.0  \n",
       "[13] digest_0.6.9    repr_0.7        evaluate_0.9   "
      ]
     },
     "metadata": {},
     "output_type": "display_data"
    }
   ],
   "source": [
    "sessionInfo()"
   ]
  },
  {
   "cell_type": "markdown",
   "metadata": {},
   "source": [
    "Don't: (Save Output)\n",
    "\n",
    "* Avoid saving data analysis output (tables, figures, etc) except temporarily\n",
    "* Save the data + code that generated the output\n",
    "* Identify why an intermediate file was created\n",
    "\n",
    "DO: (Set your seed)\n",
    "\n",
    "* Random number generators generate pseudo-random numbers based on an initial seed\n",
    "* Setting the seed allows for the stream of random numbers to be exactly reproducible\n",
    "\n",
    "DO: (Think about the Entire Pipeline)\n",
    "\n",
    "* Data analysis is a lengthy process\n",
    "* Raw data $\\rightarrow$ processed data $\\rightarrow$ analysis $\\rightarrow$ report\n",
    "* The more of the data analysis pipeline that is reproducible is better for everyone\n"
   ]
  },
  {
   "cell_type": "markdown",
   "metadata": {},
   "source": [
    "### Evidence-based Data Analysis"
   ]
  },
  {
   "cell_type": "markdown",
   "metadata": {},
   "source": [
    "**Replication and Reproducibility**\n",
    "\n",
    "Replication\n",
    "\n",
    "* focuses on the validity of the scientific claim\n",
    "* \"Is the claim true?\"\n",
    "\n",
    "Reproducibility\n",
    "\n",
    "* Focuses on the validity of the data analysis\n",
    "* \"Can we trust this analysis?\""
   ]
  },
  {
   "cell_type": "markdown",
   "metadata": {},
   "source": [
    "Cochrane Collaboration"
   ]
  }
 ],
 "metadata": {
  "anaconda-cloud": {},
  "kernelspec": {
   "display_name": "R",
   "language": "R",
   "name": "ir"
  },
  "language_info": {
   "codemirror_mode": "r",
   "file_extension": ".r",
   "mimetype": "text/x-r-source",
   "name": "R",
   "pygments_lexer": "r",
   "version": "3.3.1"
  }
 },
 "nbformat": 4,
 "nbformat_minor": 1
}
