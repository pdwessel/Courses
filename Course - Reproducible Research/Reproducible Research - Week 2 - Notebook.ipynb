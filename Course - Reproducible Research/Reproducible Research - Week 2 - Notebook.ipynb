{
 "cells": [
  {
   "cell_type": "markdown",
   "metadata": {},
   "source": [
    "## Coding Standards in R"
   ]
  },
  {
   "cell_type": "markdown",
   "metadata": {},
   "source": [
    "1. Always use text files / text editor\n",
    "2. Indent your code\n",
    "3. Limit the width of your code (80ish columns)\n",
    "4. Limit the length of your functions\n"
   ]
  },
  {
   "cell_type": "markdown",
   "metadata": {},
   "source": [
    "## Markdown"
   ]
  },
  {
   "cell_type": "markdown",
   "metadata": {},
   "source": [
    "Markdown is a test-to-html conversion tool for web writers\n",
    "\n",
    "links\n",
    "\n",
    "[RStudio](http://www.rstudio.com)\n",
    "\n",
    "I spend so much time reading [R bloggers][1]\n",
    "\n",
    "[1]: http://www.r-blogger.com/ \"R bloggers\""
   ]
  },
  {
   "cell_type": "markdown",
   "metadata": {
    "collapsed": true
   },
   "source": [
    "## How to make my work Reproducible\n",
    "\n",
    "* Decide to do it (from the start)\n",
    "* Keep track of things, prehaps with a version control system (git)\n",
    "* Use software whose operation can be coded\n",
    "* Don't save output\n",
    "* Save data in non-proprietary formats\n"
   ]
  },
  {
   "cell_type": "markdown",
   "metadata": {},
   "source": [
    "## Setting Global Options (R Markdown)\n",
    "\n",
    "Use otps_chuck$set(...) to set global options in a r markdown document\n",
    "* echo\n",
    "* results \"Asis\", \"hide\""
   ]
  },
  {
   "cell_type": "markdown",
   "metadata": {},
   "source": [
    "### Caching Computations\n",
    "\n",
    "* What if one chuck takes a long time to run?\n",
    "* All chunks have to be re-computed every time you re-knit the file\n",
    "* The cache = TRUE option can be set on a chunk by chunk basis to store the results of the computation\n",
    "* After the first run, results are loaded from the cache\n",
    "* Cavets\n",
    "    - Dependencies are not explicitly checked\n"
   ]
  },
  {
   "cell_type": "code",
   "execution_count": null,
   "metadata": {
    "collapsed": true
   },
   "outputs": [],
   "source": []
  }
 ],
 "metadata": {
  "anaconda-cloud": {},
  "kernelspec": {
   "display_name": "R",
   "language": "R",
   "name": "ir"
  },
  "language_info": {
   "codemirror_mode": "r",
   "file_extension": ".r",
   "mimetype": "text/x-r-source",
   "name": "R",
   "pygments_lexer": "r",
   "version": "3.3.1"
  }
 },
 "nbformat": 4,
 "nbformat_minor": 1
}
